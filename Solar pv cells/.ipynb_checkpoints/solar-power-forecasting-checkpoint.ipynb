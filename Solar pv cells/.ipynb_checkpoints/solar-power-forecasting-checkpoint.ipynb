{
 "cells": [
  {
   "cell_type": "code",
   "execution_count": 6,
   "id": "786dfdb5",
   "metadata": {},
   "outputs": [
    {
     "name": "stdout",
     "output_type": "stream",
     "text": [
      "Requirement already satisfied: xgboost in c:\\users\\hp\\desktop\\sample_project\\env\\lib\\site-packages (2.0.3)\n",
      "Requirement already satisfied: numpy in c:\\users\\hp\\desktop\\sample_project\\env\\lib\\site-packages (from xgboost) (1.16.6)\n",
      "Requirement already satisfied: scipy in c:\\users\\hp\\desktop\\sample_project\\env\\lib\\site-packages (from xgboost) (1.7.3)\n"
     ]
    }
   ],
   "source": [
    "import sys\n",
    "!{sys.executable} -m pip install xgboost"
   ]
  },
  {
   "cell_type": "code",
   "execution_count": 8,
   "id": "fc2bc5fa",
   "metadata": {
    "_cell_guid": "b1076dfc-b9ad-4769-8c92-a6c4dae69d19",
    "_uuid": "8f2839f25d086af736a60e9eeb907d3b93b6e0e5",
    "execution": {
     "iopub.execute_input": "2023-08-15T13:56:44.299648Z",
     "iopub.status.busy": "2023-08-15T13:56:44.299262Z",
     "iopub.status.idle": "2023-08-15T13:56:47.409734Z",
     "shell.execute_reply": "2023-08-15T13:56:47.408386Z"
    },
    "papermill": {
     "duration": 3.134389,
     "end_time": "2023-08-15T13:56:47.412082",
     "exception": false,
     "start_time": "2023-08-15T13:56:44.277693",
     "status": "completed"
    },
    "tags": []
   },
   "outputs": [],
   "source": [
    "import numpy as np \n",
    "import pandas as pd \n",
    "\n",
    "\n",
    "import matplotlib.pyplot as plt\n",
    "import seaborn as sns\n",
    "from sklearn.model_selection import train_test_split, KFold, cross_validate\n",
    "from sklearn.preprocessing import StandardScaler, MinMaxScaler, RobustScaler\n",
    "from sklearn.metrics import r2_score, mean_squared_error\n",
    "from sklearn.linear_model import Lasso, Ridge\n",
    "from sklearn.ensemble import RandomForestRegressor, ExtraTreesRegressor\n",
    "import xgboost\n",
    "from xgboost import XGBRegressor\n",
    "from sklearn.svm import SVR\n",
    "from sklearn.neural_network import MLPRegressor\n",
    "from sklearn.model_selection import GridSearchCV\n",
    "from sklearn.base import clone\n",
    "from sklearn.feature_selection import SelectKBest, f_regression, RFECV\n"
   ]
  },
  {
   "cell_type": "markdown",
   "id": "289026f5",
   "metadata": {
    "papermill": {
     "duration": 0.018601,
     "end_time": "2023-08-15T13:56:47.450133",
     "exception": false,
     "start_time": "2023-08-15T13:56:47.431532",
     "status": "completed"
    },
    "tags": []
   },
   "source": [
    "# **Solar Power Generation Prediction:**"
   ]
  },
  {
   "cell_type": "markdown",
   "id": "3fa8c527",
   "metadata": {
    "papermill": {
     "duration": 0.018431,
     "end_time": "2023-08-15T13:56:47.525222",
     "exception": false,
     "start_time": "2023-08-15T13:56:47.506791",
     "status": "completed"
    },
    "tags": []
   },
   "source": [
    "# **Dictionary (Columns):**\n",
    "* WindSpeed\n",
    "* Sunshine\n",
    "* AirPressure\n",
    "* Radiation\n",
    "* AirTemperature\n",
    "* RelativeAirHumidity\n",
    "* SystemProduction (Target)"
   ]
  },
  {
   "cell_type": "markdown",
   "id": "422bb4a0",
   "metadata": {
    "papermill": {
     "duration": 0.01842,
     "end_time": "2023-08-15T13:56:47.562310",
     "exception": false,
     "start_time": "2023-08-15T13:56:47.543890",
     "status": "completed"
    },
    "tags": []
   },
   "source": [
    "# **1. Importing data:**"
   ]
  },
  {
   "cell_type": "code",
   "execution_count": 9,
   "id": "286e580c",
   "metadata": {
    "execution": {
     "iopub.execute_input": "2023-08-15T13:56:47.601176Z",
     "iopub.status.busy": "2023-08-15T13:56:47.600840Z",
     "iopub.status.idle": "2023-08-15T13:56:47.636049Z",
     "shell.execute_reply": "2023-08-15T13:56:47.635146Z"
    },
    "papermill": {
     "duration": 0.057191,
     "end_time": "2023-08-15T13:56:47.638124",
     "exception": false,
     "start_time": "2023-08-15T13:56:47.580933",
     "status": "completed"
    },
    "tags": []
   },
   "outputs": [],
   "source": [
    "df = pd.read_csv(\"data.csv\")"
   ]
  },
  {
   "cell_type": "code",
   "execution_count": 10,
   "id": "849bef64",
   "metadata": {
    "execution": {
     "iopub.execute_input": "2023-08-15T13:56:47.678231Z",
     "iopub.status.busy": "2023-08-15T13:56:47.677384Z",
     "iopub.status.idle": "2023-08-15T13:56:47.697492Z",
     "shell.execute_reply": "2023-08-15T13:56:47.696604Z"
    },
    "papermill": {
     "duration": 0.042121,
     "end_time": "2023-08-15T13:56:47.699414",
     "exception": false,
     "start_time": "2023-08-15T13:56:47.657293",
     "status": "completed"
    },
    "tags": []
   },
   "outputs": [
    {
     "data": {
      "text/html": [
       "<div>\n",
       "<style scoped>\n",
       "    .dataframe tbody tr th:only-of-type {\n",
       "        vertical-align: middle;\n",
       "    }\n",
       "\n",
       "    .dataframe tbody tr th {\n",
       "        vertical-align: top;\n",
       "    }\n",
       "\n",
       "    .dataframe thead th {\n",
       "        text-align: right;\n",
       "    }\n",
       "</style>\n",
       "<table border=\"1\" class=\"dataframe\">\n",
       "  <thead>\n",
       "    <tr style=\"text-align: right;\">\n",
       "      <th></th>\n",
       "      <th>Date-Hour(NMT)</th>\n",
       "      <th>WindSpeed</th>\n",
       "      <th>Sunshine</th>\n",
       "      <th>AirPressure</th>\n",
       "      <th>Radiation</th>\n",
       "      <th>AirTemperature</th>\n",
       "      <th>RelativeAirHumidity</th>\n",
       "      <th>SystemProduction</th>\n",
       "    </tr>\n",
       "  </thead>\n",
       "  <tbody>\n",
       "    <tr>\n",
       "      <th>0</th>\n",
       "      <td>01.01.2017-00:00</td>\n",
       "      <td>0.6</td>\n",
       "      <td>0</td>\n",
       "      <td>1003.8</td>\n",
       "      <td>-7.4</td>\n",
       "      <td>0.1</td>\n",
       "      <td>97</td>\n",
       "      <td>0.0</td>\n",
       "    </tr>\n",
       "    <tr>\n",
       "      <th>1</th>\n",
       "      <td>01.01.2017-01:00</td>\n",
       "      <td>1.7</td>\n",
       "      <td>0</td>\n",
       "      <td>1003.5</td>\n",
       "      <td>-7.4</td>\n",
       "      <td>-0.2</td>\n",
       "      <td>98</td>\n",
       "      <td>0.0</td>\n",
       "    </tr>\n",
       "    <tr>\n",
       "      <th>2</th>\n",
       "      <td>01.01.2017-02:00</td>\n",
       "      <td>0.6</td>\n",
       "      <td>0</td>\n",
       "      <td>1003.4</td>\n",
       "      <td>-6.7</td>\n",
       "      <td>-1.2</td>\n",
       "      <td>99</td>\n",
       "      <td>0.0</td>\n",
       "    </tr>\n",
       "    <tr>\n",
       "      <th>3</th>\n",
       "      <td>01.01.2017-03:00</td>\n",
       "      <td>2.4</td>\n",
       "      <td>0</td>\n",
       "      <td>1003.3</td>\n",
       "      <td>-7.2</td>\n",
       "      <td>-1.3</td>\n",
       "      <td>99</td>\n",
       "      <td>0.0</td>\n",
       "    </tr>\n",
       "    <tr>\n",
       "      <th>4</th>\n",
       "      <td>01.01.2017-04:00</td>\n",
       "      <td>4.0</td>\n",
       "      <td>0</td>\n",
       "      <td>1003.1</td>\n",
       "      <td>-6.3</td>\n",
       "      <td>3.6</td>\n",
       "      <td>67</td>\n",
       "      <td>0.0</td>\n",
       "    </tr>\n",
       "  </tbody>\n",
       "</table>\n",
       "</div>"
      ],
      "text/plain": [
       "     Date-Hour(NMT)  WindSpeed  Sunshine  AirPressure  Radiation  \\\n",
       "0  01.01.2017-00:00        0.6         0       1003.8       -7.4   \n",
       "1  01.01.2017-01:00        1.7         0       1003.5       -7.4   \n",
       "2  01.01.2017-02:00        0.6         0       1003.4       -6.7   \n",
       "3  01.01.2017-03:00        2.4         0       1003.3       -7.2   \n",
       "4  01.01.2017-04:00        4.0         0       1003.1       -6.3   \n",
       "\n",
       "   AirTemperature  RelativeAirHumidity  SystemProduction  \n",
       "0             0.1                   97               0.0  \n",
       "1            -0.2                   98               0.0  \n",
       "2            -1.2                   99               0.0  \n",
       "3            -1.3                   99               0.0  \n",
       "4             3.6                   67               0.0  "
      ]
     },
     "execution_count": 10,
     "metadata": {},
     "output_type": "execute_result"
    }
   ],
   "source": [
    "df.head()"
   ]
  },
  {
   "cell_type": "markdown",
   "id": "d158732b",
   "metadata": {
    "papermill": {
     "duration": 0.018797,
     "end_time": "2023-08-15T13:56:47.737227",
     "exception": false,
     "start_time": "2023-08-15T13:56:47.718430",
     "status": "completed"
    },
    "tags": []
   },
   "source": [
    "# **2. Data Cleaning**"
   ]
  },
  {
   "cell_type": "code",
   "execution_count": 4,
   "id": "96f896ad",
   "metadata": {
    "execution": {
     "iopub.execute_input": "2023-08-15T13:56:47.776268Z",
     "iopub.status.busy": "2023-08-15T13:56:47.775940Z",
     "iopub.status.idle": "2023-08-15T13:56:47.797375Z",
     "shell.execute_reply": "2023-08-15T13:56:47.795923Z"
    },
    "papermill": {
     "duration": 0.043328,
     "end_time": "2023-08-15T13:56:47.799382",
     "exception": false,
     "start_time": "2023-08-15T13:56:47.756054",
     "status": "completed"
    },
    "tags": []
   },
   "outputs": [
    {
     "name": "stdout",
     "output_type": "stream",
     "text": [
      "<class 'pandas.core.frame.DataFrame'>\n",
      "RangeIndex: 8760 entries, 0 to 8759\n",
      "Data columns (total 8 columns):\n",
      " #   Column               Non-Null Count  Dtype  \n",
      "---  ------               --------------  -----  \n",
      " 0   Date-Hour(NMT)       8760 non-null   object \n",
      " 1   WindSpeed            8760 non-null   float64\n",
      " 2   Sunshine             8760 non-null   int64  \n",
      " 3   AirPressure          8760 non-null   float64\n",
      " 4   Radiation            8760 non-null   float64\n",
      " 5   AirTemperature       8760 non-null   float64\n",
      " 6   RelativeAirHumidity  8760 non-null   int64  \n",
      " 7   SystemProduction     8760 non-null   float64\n",
      "dtypes: float64(5), int64(2), object(1)\n",
      "memory usage: 547.6+ KB\n"
     ]
    }
   ],
   "source": [
    "# Information about the dataset:\n",
    "df.info()"
   ]
  },
  {
   "cell_type": "code",
   "execution_count": 5,
   "id": "d99a954e",
   "metadata": {
    "execution": {
     "iopub.execute_input": "2023-08-15T13:56:47.839267Z",
     "iopub.status.busy": "2023-08-15T13:56:47.838349Z",
     "iopub.status.idle": "2023-08-15T13:56:47.848399Z",
     "shell.execute_reply": "2023-08-15T13:56:47.847473Z"
    },
    "papermill": {
     "duration": 0.031944,
     "end_time": "2023-08-15T13:56:47.850313",
     "exception": false,
     "start_time": "2023-08-15T13:56:47.818369",
     "status": "completed"
    },
    "tags": []
   },
   "outputs": [
    {
     "data": {
      "text/plain": [
       "Date-Hour(NMT)         0\n",
       "WindSpeed              0\n",
       "Sunshine               0\n",
       "AirPressure            0\n",
       "Radiation              0\n",
       "AirTemperature         0\n",
       "RelativeAirHumidity    0\n",
       "SystemProduction       0\n",
       "dtype: int64"
      ]
     },
     "execution_count": 5,
     "metadata": {},
     "output_type": "execute_result"
    }
   ],
   "source": [
    "# Missing data:\n",
    "df.isna().sum()"
   ]
  },
  {
   "cell_type": "code",
   "execution_count": 6,
   "id": "60b7e38b",
   "metadata": {
    "execution": {
     "iopub.execute_input": "2023-08-15T13:56:47.890242Z",
     "iopub.status.busy": "2023-08-15T13:56:47.889504Z",
     "iopub.status.idle": "2023-08-15T13:56:47.942541Z",
     "shell.execute_reply": "2023-08-15T13:56:47.941276Z"
    },
    "papermill": {
     "duration": 0.075274,
     "end_time": "2023-08-15T13:56:47.944718",
     "exception": false,
     "start_time": "2023-08-15T13:56:47.869444",
     "status": "completed"
    },
    "tags": []
   },
   "outputs": [
    {
     "name": "stdout",
     "output_type": "stream",
     "text": [
      "<class 'pandas.core.frame.DataFrame'>\n",
      "RangeIndex: 8760 entries, 0 to 8759\n",
      "Data columns (total 8 columns):\n",
      " #   Column               Non-Null Count  Dtype         \n",
      "---  ------               --------------  -----         \n",
      " 0   Date-Hour(NMT)       8760 non-null   datetime64[ns]\n",
      " 1   WindSpeed            8760 non-null   float64       \n",
      " 2   Sunshine             8760 non-null   int64         \n",
      " 3   AirPressure          8760 non-null   float64       \n",
      " 4   Radiation            8760 non-null   float64       \n",
      " 5   AirTemperature       8760 non-null   float64       \n",
      " 6   RelativeAirHumidity  8760 non-null   int64         \n",
      " 7   SystemProduction     8760 non-null   float64       \n",
      "dtypes: datetime64[ns](1), float64(5), int64(2)\n",
      "memory usage: 547.6 KB\n"
     ]
    }
   ],
   "source": [
    "# Changing Date-Hour(NMT) column type:\n",
    "df['Date-Hour(NMT)'] = pd.to_datetime(df['Date-Hour(NMT)'], format=\"%d.%m.%Y-%H:%M\")\n",
    "df.info()"
   ]
  },
  {
   "cell_type": "code",
   "execution_count": 7,
   "id": "01cc51d8",
   "metadata": {
    "execution": {
     "iopub.execute_input": "2023-08-15T13:56:47.986553Z",
     "iopub.status.busy": "2023-08-15T13:56:47.986292Z",
     "iopub.status.idle": "2023-08-15T13:56:47.991020Z",
     "shell.execute_reply": "2023-08-15T13:56:47.990035Z"
    },
    "papermill": {
     "duration": 0.028607,
     "end_time": "2023-08-15T13:56:47.992925",
     "exception": false,
     "start_time": "2023-08-15T13:56:47.964318",
     "status": "completed"
    },
    "tags": []
   },
   "outputs": [],
   "source": [
    "# Setting the Date-Hour(NUMT) as the index:\n",
    "df.set_index(\"Date-Hour(NMT)\", inplace=True)"
   ]
  },
  {
   "cell_type": "code",
   "execution_count": 8,
   "id": "25b2cee2",
   "metadata": {
    "execution": {
     "iopub.execute_input": "2023-08-15T13:56:48.033937Z",
     "iopub.status.busy": "2023-08-15T13:56:48.033675Z",
     "iopub.status.idle": "2023-08-15T13:56:48.041255Z",
     "shell.execute_reply": "2023-08-15T13:56:48.040424Z"
    },
    "papermill": {
     "duration": 0.029976,
     "end_time": "2023-08-15T13:56:48.043245",
     "exception": false,
     "start_time": "2023-08-15T13:56:48.013269",
     "status": "completed"
    },
    "tags": []
   },
   "outputs": [],
   "source": [
    "# Let's change the type of the numeric variables:\n",
    "df['Sunshine'] = df['Sunshine'].astype(\"int16\")\n",
    "df['RelativeAirHumidity'] = df['RelativeAirHumidity'].astype(\"int16\")\n",
    "df['WindSpeed'] = df['WindSpeed'].astype(\"float32\")\n",
    "df['Radiation'] = df['Radiation'].astype(\"float32\")\n",
    "df['AirTemperature'] = df['AirTemperature'].astype(\"float32\")"
   ]
  },
  {
   "cell_type": "code",
   "execution_count": 9,
   "id": "990c377f",
   "metadata": {
    "execution": {
     "iopub.execute_input": "2023-08-15T13:56:48.083249Z",
     "iopub.status.busy": "2023-08-15T13:56:48.082582Z",
     "iopub.status.idle": "2023-08-15T13:56:48.094841Z",
     "shell.execute_reply": "2023-08-15T13:56:48.093390Z"
    },
    "papermill": {
     "duration": 0.034449,
     "end_time": "2023-08-15T13:56:48.096836",
     "exception": false,
     "start_time": "2023-08-15T13:56:48.062387",
     "status": "completed"
    },
    "tags": []
   },
   "outputs": [
    {
     "name": "stdout",
     "output_type": "stream",
     "text": [
      "<class 'pandas.core.frame.DataFrame'>\n",
      "DatetimeIndex: 8760 entries, 2017-01-01 00:00:00 to 2017-12-31 23:00:00\n",
      "Data columns (total 7 columns):\n",
      " #   Column               Non-Null Count  Dtype  \n",
      "---  ------               --------------  -----  \n",
      " 0   WindSpeed            8760 non-null   float32\n",
      " 1   Sunshine             8760 non-null   int16  \n",
      " 2   AirPressure          8760 non-null   float64\n",
      " 3   Radiation            8760 non-null   float32\n",
      " 4   AirTemperature       8760 non-null   float32\n",
      " 5   RelativeAirHumidity  8760 non-null   int16  \n",
      " 6   SystemProduction     8760 non-null   float64\n",
      "dtypes: float32(3), float64(2), int16(2)\n",
      "memory usage: 342.2 KB\n"
     ]
    }
   ],
   "source": [
    "# Information about the dataset:\n",
    "df.info()"
   ]
  },
  {
   "cell_type": "markdown",
   "id": "01ec984e",
   "metadata": {
    "papermill": {
     "duration": 0.019259,
     "end_time": "2023-08-15T13:56:48.135724",
     "exception": false,
     "start_time": "2023-08-15T13:56:48.116465",
     "status": "completed"
    },
    "tags": []
   },
   "source": [
    "**Conclusions**\n",
    "* No missing data.\n",
    "* Date-Hour(NMT) is now a datetime type.\n",
    "* Memory usage of the dataset reduced from 547.6 to 342.2 KB."
   ]
  },
  {
   "cell_type": "markdown",
   "id": "425c9bbe",
   "metadata": {
    "papermill": {
     "duration": 0.019416,
     "end_time": "2023-08-15T13:56:48.174363",
     "exception": false,
     "start_time": "2023-08-15T13:56:48.154947",
     "status": "completed"
    },
    "tags": []
   },
   "source": [
    "# 3. **Exploratory Data Analysis**"
   ]
  },
  {
   "cell_type": "markdown",
   "id": "fd1b679f",
   "metadata": {
    "papermill": {
     "duration": 0.019237,
     "end_time": "2023-08-15T13:56:48.212804",
     "exception": false,
     "start_time": "2023-08-15T13:56:48.193567",
     "status": "completed"
    },
    "tags": []
   },
   "source": [
    "**3.1) Exploring the characteristics**"
   ]
  },
  {
   "cell_type": "code",
   "execution_count": 10,
   "id": "082ec684",
   "metadata": {
    "execution": {
     "iopub.execute_input": "2023-08-15T13:56:48.253488Z",
     "iopub.status.busy": "2023-08-15T13:56:48.252081Z",
     "iopub.status.idle": "2023-08-15T13:56:48.284538Z",
     "shell.execute_reply": "2023-08-15T13:56:48.283606Z"
    },
    "papermill": {
     "duration": 0.054425,
     "end_time": "2023-08-15T13:56:48.286481",
     "exception": false,
     "start_time": "2023-08-15T13:56:48.232056",
     "status": "completed"
    },
    "tags": []
   },
   "outputs": [
    {
     "data": {
      "text/html": [
       "<div>\n",
       "<style scoped>\n",
       "    .dataframe tbody tr th:only-of-type {\n",
       "        vertical-align: middle;\n",
       "    }\n",
       "\n",
       "    .dataframe tbody tr th {\n",
       "        vertical-align: top;\n",
       "    }\n",
       "\n",
       "    .dataframe thead th {\n",
       "        text-align: right;\n",
       "    }\n",
       "</style>\n",
       "<table border=\"1\" class=\"dataframe\">\n",
       "  <thead>\n",
       "    <tr style=\"text-align: right;\">\n",
       "      <th></th>\n",
       "      <th>WindSpeed</th>\n",
       "      <th>Sunshine</th>\n",
       "      <th>AirPressure</th>\n",
       "      <th>Radiation</th>\n",
       "      <th>AirTemperature</th>\n",
       "      <th>RelativeAirHumidity</th>\n",
       "      <th>SystemProduction</th>\n",
       "    </tr>\n",
       "  </thead>\n",
       "  <tbody>\n",
       "    <tr>\n",
       "      <th>count</th>\n",
       "      <td>8760.000000</td>\n",
       "      <td>8760.000000</td>\n",
       "      <td>8760.000000</td>\n",
       "      <td>8760.000000</td>\n",
       "      <td>8760.000000</td>\n",
       "      <td>8760.000000</td>\n",
       "      <td>8760.000000</td>\n",
       "    </tr>\n",
       "    <tr>\n",
       "      <th>mean</th>\n",
       "      <td>2.639823</td>\n",
       "      <td>11.180479</td>\n",
       "      <td>1010.361781</td>\n",
       "      <td>97.538498</td>\n",
       "      <td>6.978892</td>\n",
       "      <td>76.719406</td>\n",
       "      <td>684.746071</td>\n",
       "    </tr>\n",
       "    <tr>\n",
       "      <th>std</th>\n",
       "      <td>1.628754</td>\n",
       "      <td>21.171295</td>\n",
       "      <td>12.793971</td>\n",
       "      <td>182.336029</td>\n",
       "      <td>7.604266</td>\n",
       "      <td>19.278996</td>\n",
       "      <td>1487.454665</td>\n",
       "    </tr>\n",
       "    <tr>\n",
       "      <th>min</th>\n",
       "      <td>0.000000</td>\n",
       "      <td>0.000000</td>\n",
       "      <td>965.900000</td>\n",
       "      <td>-9.300000</td>\n",
       "      <td>-12.400000</td>\n",
       "      <td>13.000000</td>\n",
       "      <td>0.000000</td>\n",
       "    </tr>\n",
       "    <tr>\n",
       "      <th>25%</th>\n",
       "      <td>1.400000</td>\n",
       "      <td>0.000000</td>\n",
       "      <td>1002.800000</td>\n",
       "      <td>-6.200000</td>\n",
       "      <td>0.500000</td>\n",
       "      <td>64.000000</td>\n",
       "      <td>0.000000</td>\n",
       "    </tr>\n",
       "    <tr>\n",
       "      <th>50%</th>\n",
       "      <td>2.300000</td>\n",
       "      <td>0.000000</td>\n",
       "      <td>1011.000000</td>\n",
       "      <td>-1.400000</td>\n",
       "      <td>6.400000</td>\n",
       "      <td>82.000000</td>\n",
       "      <td>0.000000</td>\n",
       "    </tr>\n",
       "    <tr>\n",
       "      <th>75%</th>\n",
       "      <td>3.600000</td>\n",
       "      <td>7.000000</td>\n",
       "      <td>1018.200000</td>\n",
       "      <td>115.599998</td>\n",
       "      <td>13.400000</td>\n",
       "      <td>93.000000</td>\n",
       "      <td>464.249950</td>\n",
       "    </tr>\n",
       "    <tr>\n",
       "      <th>max</th>\n",
       "      <td>10.900000</td>\n",
       "      <td>60.000000</td>\n",
       "      <td>1047.300000</td>\n",
       "      <td>899.700012</td>\n",
       "      <td>27.100000</td>\n",
       "      <td>100.000000</td>\n",
       "      <td>7701.000000</td>\n",
       "    </tr>\n",
       "  </tbody>\n",
       "</table>\n",
       "</div>"
      ],
      "text/plain": [
       "         WindSpeed     Sunshine  AirPressure    Radiation  AirTemperature  \\\n",
       "count  8760.000000  8760.000000  8760.000000  8760.000000     8760.000000   \n",
       "mean      2.639823    11.180479  1010.361781    97.538498        6.978892   \n",
       "std       1.628754    21.171295    12.793971   182.336029        7.604266   \n",
       "min       0.000000     0.000000   965.900000    -9.300000      -12.400000   \n",
       "25%       1.400000     0.000000  1002.800000    -6.200000        0.500000   \n",
       "50%       2.300000     0.000000  1011.000000    -1.400000        6.400000   \n",
       "75%       3.600000     7.000000  1018.200000   115.599998       13.400000   \n",
       "max      10.900000    60.000000  1047.300000   899.700012       27.100000   \n",
       "\n",
       "       RelativeAirHumidity  SystemProduction  \n",
       "count          8760.000000       8760.000000  \n",
       "mean             76.719406        684.746071  \n",
       "std              19.278996       1487.454665  \n",
       "min              13.000000          0.000000  \n",
       "25%              64.000000          0.000000  \n",
       "50%              82.000000          0.000000  \n",
       "75%              93.000000        464.249950  \n",
       "max             100.000000       7701.000000  "
      ]
     },
     "execution_count": 10,
     "metadata": {},
     "output_type": "execute_result"
    }
   ],
   "source": [
    "# Descriptive Statistics:\n",
    "df.describe()"
   ]
  },
  {
   "cell_type": "code",
   "execution_count": 11,
   "id": "aa09bb29",
   "metadata": {
    "execution": {
     "iopub.execute_input": "2023-08-15T13:56:48.327199Z",
     "iopub.status.busy": "2023-08-15T13:56:48.326549Z",
     "iopub.status.idle": "2023-08-15T13:56:48.333568Z",
     "shell.execute_reply": "2023-08-15T13:56:48.332317Z"
    },
    "papermill": {
     "duration": 0.029512,
     "end_time": "2023-08-15T13:56:48.335748",
     "exception": false,
     "start_time": "2023-08-15T13:56:48.306236",
     "status": "completed"
    },
    "tags": []
   },
   "outputs": [
    {
     "name": "stdout",
     "output_type": "stream",
     "text": [
      "Range of Datetime column: (2017-01-01 00:00:00) to (2017-12-31 23:00:00)\n"
     ]
    }
   ],
   "source": [
    "# Range of datetime column:\n",
    "print(f\"Range of Datetime column: ({df.index.min()}) to ({df.index.max()})\")"
   ]
  },
  {
   "cell_type": "code",
   "execution_count": 12,
   "id": "7e3d2d54",
   "metadata": {
    "execution": {
     "iopub.execute_input": "2023-08-15T13:56:48.376882Z",
     "iopub.status.busy": "2023-08-15T13:56:48.376615Z",
     "iopub.status.idle": "2023-08-15T13:56:48.384842Z",
     "shell.execute_reply": "2023-08-15T13:56:48.383876Z"
    },
    "papermill": {
     "duration": 0.030881,
     "end_time": "2023-08-15T13:56:48.386800",
     "exception": false,
     "start_time": "2023-08-15T13:56:48.355919",
     "status": "completed"
    },
    "tags": []
   },
   "outputs": [
    {
     "data": {
      "text/plain": [
       "(4464, 7)"
      ]
     },
     "execution_count": 12,
     "metadata": {},
     "output_type": "execute_result"
    }
   ],
   "source": [
    "# Let's see how many data points have negative Radiation:\n",
    "df[df[\"Radiation\"] < 0].shape"
   ]
  },
  {
   "cell_type": "code",
   "execution_count": 13,
   "id": "3e554e3c",
   "metadata": {
    "execution": {
     "iopub.execute_input": "2023-08-15T13:56:48.429945Z",
     "iopub.status.busy": "2023-08-15T13:56:48.429693Z",
     "iopub.status.idle": "2023-08-15T13:56:48.446046Z",
     "shell.execute_reply": "2023-08-15T13:56:48.445218Z"
    },
    "papermill": {
     "duration": 0.041594,
     "end_time": "2023-08-15T13:56:48.448102",
     "exception": false,
     "start_time": "2023-08-15T13:56:48.406508",
     "status": "completed"
    },
    "tags": []
   },
   "outputs": [],
   "source": [
    "# Analysing average monthly Radiation and Sunshine:\n",
    "df[\"Months\"] = df.index.month_name()\n",
    "df[\"Month_number\"] = df.index.month\n",
    "monthly_rad_sun = df.groupby([\"Month_number\", \"Months\"]).agg({\"Radiation\":\"mean\", \"Sunshine\":\"mean\"}).droplevel(level=\"Month_number\")"
   ]
  },
  {
   "cell_type": "code",
   "execution_count": 14,
   "id": "f5c24c87",
   "metadata": {
    "execution": {
     "iopub.execute_input": "2023-08-15T13:56:48.489746Z",
     "iopub.status.busy": "2023-08-15T13:56:48.488395Z",
     "iopub.status.idle": "2023-08-15T13:56:48.980936Z",
     "shell.execute_reply": "2023-08-15T13:56:48.980046Z"
    },
    "papermill": {
     "duration": 0.515348,
     "end_time": "2023-08-15T13:56:48.983262",
     "exception": false,
     "start_time": "2023-08-15T13:56:48.467914",
     "status": "completed"
    },
    "tags": []
   },
   "outputs": [
    {
     "data": {
      "image/png": "[encoded data removed]",
      "text/plain": [
       "<Figure size 1300x500 with 2 Axes>"
      ]
     },
     "metadata": {},
     "output_type": "display_data"
    }
   ],
   "source": [
    "# Line plot of the Average monthly Radiation and Sushine\n",
    "fig, ax = plt.subplots(nrows=2, ncols=1, sharex=True, figsize=(13, 5))\n",
    "fig.suptitle(\"Average monthly Radiation and Sunshine\")\n",
    "plt.xticks(rotation=45)\n",
    "sns.lineplot(monthly_rad_sun[\"Radiation\"], ax=ax[0])\n",
    "sns.lineplot(monthly_rad_sun[\"Sunshine\"], ax=ax[1], c=\"r\");"
   ]
  },
  {
   "cell_type": "code",
   "execution_count": 15,
   "id": "3bae5f80",
   "metadata": {
    "execution": {
     "iopub.execute_input": "2023-08-15T13:56:49.027141Z",
     "iopub.status.busy": "2023-08-15T13:56:49.026328Z",
     "iopub.status.idle": "2023-08-15T13:56:49.033696Z",
     "shell.execute_reply": "2023-08-15T13:56:49.032815Z"
    },
    "papermill": {
     "duration": 0.031249,
     "end_time": "2023-08-15T13:56:49.035656",
     "exception": false,
     "start_time": "2023-08-15T13:56:49.004407",
     "status": "completed"
    },
    "tags": []
   },
   "outputs": [],
   "source": [
    "# Dropping Months and Month_number columns:\n",
    "df.drop(columns=[\"Months\", \"Month_number\"], inplace=True)"
   ]
  },
  {
   "cell_type": "markdown",
   "id": "9fd41274",
   "metadata": {
    "papermill": {
     "duration": 0.020832,
     "end_time": "2023-08-15T13:56:49.120044",
     "exception": false,
     "start_time": "2023-08-15T13:56:49.099212",
     "status": "completed"
    },
    "tags": []
   },
   "source": [
    "**3.2) Distribution**\n",
    "\n",
    "***We will look at the histogram of all variables***"
   ]
  },
  {
   "cell_type": "code",
   "execution_count": 16,
   "id": "cd84607a",
   "metadata": {
    "execution": {
     "iopub.execute_input": "2023-08-15T13:56:49.163919Z",
     "iopub.status.busy": "2023-08-15T13:56:49.162956Z",
     "iopub.status.idle": "2023-08-15T13:56:52.067066Z",
     "shell.execute_reply": "2023-08-15T13:56:52.066066Z"
    },
    "papermill": {
     "duration": 2.929587,
     "end_time": "2023-08-15T13:56:52.070790",
     "exception": false,
     "start_time": "2023-08-15T13:56:49.141203",
     "status": "completed"
    },
    "tags": []
   },
   "outputs": [
    {
     "data": {
      "image/png": "[encoded data removed]",
      "text/plain": [
       "<Figure size 2000x1500 with 9 Axes>"
      ]
     },
     "metadata": {},
     "output_type": "display_data"
    }
   ],
   "source": [
    "# Histograms:\n",
    "fig, axes = plt.subplots(nrows=3, ncols=3, sharey=False, figsize=(20, 15))\n",
    "fig.suptitle(\"Histograms of the Variables\")\n",
    "sns.histplot(df[\"SystemProduction\"].values, ax=axes[0, 0], kde=True)\n",
    "axes[0, 0].set_title(\"SystemProduction\")\n",
    "sns.histplot(df[\"WindSpeed\"].values, ax=axes[0, 1], kde=True)\n",
    "axes[0, 1].set_title(\"WindSpeed\")\n",
    "sns.histplot(df[\"Sunshine\"].values, ax=axes[0][2], kde=True)\n",
    "axes[0][2].set_title(\"Sunshine\")\n",
    "sns.histplot(df[\"RelativeAirHumidity\"].values, ax=axes[1, 0], kde=True)\n",
    "axes[1, 0].set_title(\"RelativeAirHumidity\")\n",
    "sns.histplot(df[\"Radiation\"].values, ax=axes[1, 1], kde=True, legend=False)\n",
    "axes[1, 1].set_title(\"Radiation\")\n",
    "sns.histplot(df[\"AirTemperature\"].values, ax=axes[1, 2], kde=True)\n",
    "axes[1, 2].set_title(\"AirTemperature\")\n",
    "sns.histplot(df[\"AirPressure\"].values, ax=axes[2, 0], kde=True)\n",
    "axes[2, 0].set_title(\"AirPressure\");\n",
    "axes[2, 1].set_visible(False)\n",
    "axes[2, 2].set_visible(False)"
   ]
  },
  {
   "cell_type": "markdown",
   "id": "2c88e060",
   "metadata": {
    "papermill": {
     "duration": 0.024825,
     "end_time": "2023-08-15T13:56:52.120066",
     "exception": false,
     "start_time": "2023-08-15T13:56:52.095241",
     "status": "completed"
    },
    "tags": []
   },
   "source": [
    "**Looking at the Histograms, we may think that AirPressure column was drew from a normal distribution. Let's\n",
    "look at the boxplots.**"
   ]
  },
  {
   "cell_type": "code",
   "execution_count": 17,
   "id": "e69e35e2",
   "metadata": {
    "execution": {
     "iopub.execute_input": "2023-08-15T13:56:52.171134Z",
     "iopub.status.busy": "2023-08-15T13:56:52.170404Z",
     "iopub.status.idle": "2023-08-15T13:56:53.232956Z",
     "shell.execute_reply": "2023-08-15T13:56:53.231891Z"
    },
    "papermill": {
     "duration": 1.090748,
     "end_time": "2023-08-15T13:56:53.235278",
     "exception": false,
     "start_time": "2023-08-15T13:56:52.144530",
     "status": "completed"
    },
    "tags": []
   },
   "outputs": [
    {
     "data": {
      "image/png": "[encoded data removed]",
      "text/plain": [
       "<Figure size 2000x1500 with 9 Axes>"
      ]
     },
     "metadata": {},
     "output_type": "display_data"
    }
   ],
   "source": [
    "# BoxPlots:\n",
    "fig, ax = plt.subplots(3, 3, figsize=(20, 15), sharey=False)\n",
    "fig.suptitle(\"Boxplots\")\n",
    "sns.boxplot(y=df[\"SystemProduction\"].values, ax=ax[0, 0])\n",
    "ax[0, 0].set_xlabel(\"SystemProduction\")\n",
    "sns.boxplot(y=df[\"WindSpeed\"].values, ax=ax[0, 1])\n",
    "ax[0, 1].set_xlabel(\"WindSpeed\")\n",
    "sns.boxplot(y=df[\"Sunshine\"].values, ax=ax[0, 2])\n",
    "ax[0, 2].set_xlabel(\"Sunshine\")\n",
    "sns.boxplot(y=df[\"RelativeAirHumidity\"].values, ax=ax[1, 0])\n",
    "ax[1, 0].set_xlabel(\"RelativeAirHumidity\")\n",
    "sns.boxplot(y=df[\"Radiation\"].values, ax=ax[1, 1])\n",
    "ax[1, 1].set_xlabel(\"Radiation\")\n",
    "sns.boxplot(y=df[\"AirTemperature\"].values, ax=ax[1, 2])\n",
    "ax[1, 2].set_xlabel(\"AirTemperature\")\n",
    "sns.boxplot(y=df[\"AirPressure\"].values, ax=ax[2, 0])\n",
    "ax[2, 0].set_xlabel(\"AirPressure\");\n",
    "ax[2, 1].set_visible(False)\n",
    "ax[2, 2].set_visible(False)"
   ]
  },
  {
   "cell_type": "code",
   "execution_count": 23,
   "id": "6dcbf875",
   "metadata": {
    "execution": {
     "iopub.execute_input": "2023-08-15T13:56:55.922906Z",
     "iopub.status.busy": "2023-08-15T13:56:55.922110Z",
     "iopub.status.idle": "2023-08-15T13:56:56.374887Z",
     "shell.execute_reply": "2023-08-15T13:56:56.373938Z"
    },
    "papermill": {
     "duration": 0.482523,
     "end_time": "2023-08-15T13:56:56.377157",
     "exception": false,
     "start_time": "2023-08-15T13:56:55.894634",
     "status": "completed"
    },
    "tags": []
   },
   "outputs": [
    {
     "data": {
      "image/png": "[encoded data removed]",
      "text/plain": [
       "<Figure size 640x480 with 2 Axes>"
      ]
     },
     "metadata": {},
     "output_type": "display_data"
    }
   ],
   "source": [
    "# Correlation Matrix:\n",
    "def heatmap_cor(df):\n",
    "    cor = df.corr()\n",
    "    mascara = np.zeros_like(cor)\n",
    "    mascara[np.triu_indices_from(mascara)] = True\n",
    "    sns.heatmap(cor, mask=mascara, cbar=True, annot=True, cmap=\"crest\")\n",
    "heatmap_cor(df)"
   ]
  },
  {
   "cell_type": "markdown",
   "id": "79080386",
   "metadata": {
    "papermill": {
     "duration": 0.027632,
     "end_time": "2023-08-15T13:56:56.488131",
     "exception": false,
     "start_time": "2023-08-15T13:56:56.460499",
     "status": "completed"
    },
    "tags": []
   },
   "source": [
    "# 4. **Preprocessing**"
   ]
  },
  {
   "cell_type": "markdown",
   "id": "10c22f32",
   "metadata": {
    "papermill": {
     "duration": 0.026895,
     "end_time": "2023-08-15T13:56:56.542112",
     "exception": false,
     "start_time": "2023-08-15T13:56:56.515217",
     "status": "completed"
    },
    "tags": []
   },
   "source": [
    "**Separating into training and testing sets**"
   ]
  },
  {
   "cell_type": "code",
   "execution_count": 24,
   "id": "fd4f6a20",
   "metadata": {
    "execution": {
     "iopub.execute_input": "2023-08-15T13:56:56.598397Z",
     "iopub.status.busy": "2023-08-15T13:56:56.597422Z",
     "iopub.status.idle": "2023-08-15T13:56:56.603641Z",
     "shell.execute_reply": "2023-08-15T13:56:56.602768Z"
    },
    "papermill": {
     "duration": 0.036555,
     "end_time": "2023-08-15T13:56:56.605613",
     "exception": false,
     "start_time": "2023-08-15T13:56:56.569058",
     "status": "completed"
    },
    "tags": []
   },
   "outputs": [],
   "source": [
    "# Separating variables (features and target)\n",
    "X = df.drop(columns=\"SystemProduction\")\n",
    "y = df[\"SystemProduction\"]"
   ]
  },
  {
   "cell_type": "code",
   "execution_count": 25,
   "id": "a5e9f14e",
   "metadata": {
    "execution": {
     "iopub.execute_input": "2023-08-15T13:56:56.663208Z",
     "iopub.status.busy": "2023-08-15T13:56:56.662441Z",
     "iopub.status.idle": "2023-08-15T13:56:56.669344Z",
     "shell.execute_reply": "2023-08-15T13:56:56.668480Z"
    },
    "papermill": {
     "duration": 0.037089,
     "end_time": "2023-08-15T13:56:56.671365",
     "exception": false,
     "start_time": "2023-08-15T13:56:56.634276",
     "status": "completed"
    },
    "tags": []
   },
   "outputs": [],
   "source": [
    "# Divinding dataset in train and test:\n",
    "X_train, X_test, y_train, y_test = train_test_split(X, y, test_size=0.2, random_state=42)"
   ]
  },
  {
   "cell_type": "markdown",
   "id": "27fc84cd",
   "metadata": {
    "papermill": {
     "duration": 0.02697,
     "end_time": "2023-08-15T13:56:56.725882",
     "exception": false,
     "start_time": "2023-08-15T13:56:56.698912",
     "status": "completed"
    },
    "tags": []
   },
   "source": [
    "**Feature Selection**"
   ]
  },
  {
   "cell_type": "code",
   "execution_count": 26,
   "id": "ba1c5ccf",
   "metadata": {
    "execution": {
     "iopub.execute_input": "2023-08-15T13:56:56.782507Z",
     "iopub.status.busy": "2023-08-15T13:56:56.782204Z",
     "iopub.status.idle": "2023-08-15T13:56:56.798615Z",
     "shell.execute_reply": "2023-08-15T13:56:56.797719Z"
    },
    "papermill": {
     "duration": 0.047043,
     "end_time": "2023-08-15T13:56:56.800723",
     "exception": false,
     "start_time": "2023-08-15T13:56:56.753680",
     "status": "completed"
    },
    "tags": []
   },
   "outputs": [],
   "source": [
    "# Class that put together many feature selection techniques:\n",
    "class feature_selector:\n",
    "    seed = 42\n",
    "    def __init__(self, X, y) -> None:\n",
    "        self.X_train = X\n",
    "        self.y_train = y\n",
    "    def randomforestR_imp(self):\n",
    "        model = RandomForestRegressor(random_state=feature_selector.seed)\n",
    "        model.fit(self.X_train, self.y_train)\n",
    "        series = pd.Series(index=self.X_train.columns, data=model.feature_importances_)\n",
    "        # Plotting RandomForest Regression Importance:\n",
    "        plt.title(\"RandomForest Importance\")\n",
    "        plt.xlabel(\"Importance\")\n",
    "        sns.barplot(x=series.values, y=series.index)\n",
    "        \n",
    "    def xgbR_imp(self):\n",
    "        model = XGBRegressor(random_state=feature_selector.seed)\n",
    "        model.fit(self.X_train, self.y_train)\n",
    "        series = pd.Series(index=self.X_train.columns, data=model.feature_importances_)\n",
    "        # Plotting XGboost Regression Feature Importance:\n",
    "        plt.title(\"XGBoost Feature Importance\")\n",
    "        plt.xlabel(\"Importance\")\n",
    "        sns.barplot(y=series.index, x=series.values)\n",
    "                           \n",
    "    # Univariate feature selection:\n",
    "    def univariate(self, statistic, n=\"all\"):\n",
    "        selector = SelectKBest(score_func=statistic, k=n)\n",
    "        selector.fit(self.X_train, self.y_train)\n",
    "        series = pd.Series(index=self.X_train.columns, data=selector.scores_).sort_values(ascending=False)\n",
    "        plt.title(\"F-Regression Filtering\")\n",
    "        plt.xlabel(\"F-score\")\n",
    "        sns.barplot(y=series.index, x=series.values)\n",
    "        return selector\n",
    "                           \n",
    "    # Wrapper method for feature selection:\n",
    "    def refcv(self):\n",
    "        models = {\n",
    "            \"Lasso\": Lasso(random_state=feature_selector.seed),\n",
    "            \"Ridge\": Ridge(random_state=feature_selector.seed),\n",
    "            \"RandomForestR\": RandomForestRegressor(random_state=feature_selector.seed),\n",
    "            \"ExtraTreeR\": ExtraTreesRegressor(random_state=feature_selector.seed),\n",
    "            \"XGB\": XGBRegressor(random_state=feature_selector.seed)\n",
    "        }\n",
    "                           \n",
    "        splits = 10\n",
    "        cross = KFold(n_splits=splits, random_state=feature_selector.seed, shuffle=True)\n",
    "        ind = [f\"Columns {i}\" for i in range(1, len(self.X_train.columns) + 1)]\n",
    "        df = pd.DataFrame(index=ind)\n",
    "                           \n",
    "        minimo = np.inf\n",
    "        name = \"\"\n",
    "        for key, model in models.items():\n",
    "            rfecv = RFECV(estimator=model, step=1, cv=cross, min_features_to_select=1, scoring='neg_mean_squared_error')\n",
    "            rfecv.fit(self.X_train, self.y_train)\n",
    "            root_mean = np.sqrt(-rfecv.cv_results_[\"mean_test_score\"])\n",
    "            df[key] = root_mean\n",
    "            best_value = root_mean[np.argmin(root_mean)]\n",
    "                          \n",
    "            if minimo > best_value:\n",
    "                minimo = best_value\n",
    "                best_features = rfecv.support_\n",
    "                name = key\n",
    "                          \n",
    "        df_features = pd.DataFrame(columns=self.X_train.columns, data=best_features.reshape(1, -1))\n",
    "        return df, df_features"
   ]
  },
  {
   "cell_type": "code",
   "execution_count": 27,
   "id": "ac6bc923",
   "metadata": {
    "execution": {
     "iopub.execute_input": "2023-08-15T13:56:56.857055Z",
     "iopub.status.busy": "2023-08-15T13:56:56.856767Z",
     "iopub.status.idle": "2023-08-15T13:56:56.860791Z",
     "shell.execute_reply": "2023-08-15T13:56:56.859883Z"
    },
    "papermill": {
     "duration": 0.035032,
     "end_time": "2023-08-15T13:56:56.862705",
     "exception": false,
     "start_time": "2023-08-15T13:56:56.827673",
     "status": "completed"
    },
    "tags": []
   },
   "outputs": [],
   "source": [
    "# Feature selector object:\n",
    "feature = feature_selector(X_train, y_train)"
   ]
  },
  {
   "cell_type": "markdown",
   "id": "67958849",
   "metadata": {
    "papermill": {
     "duration": 0.026862,
     "end_time": "2023-08-15T13:56:56.916253",
     "exception": false,
     "start_time": "2023-08-15T13:56:56.889391",
     "status": "completed"
    },
    "tags": []
   },
   "source": [
    "**Filtering selection**"
   ]
  },
  {
   "cell_type": "code",
   "execution_count": 28,
   "id": "7acae27b",
   "metadata": {
    "execution": {
     "iopub.execute_input": "2023-08-15T13:56:56.971464Z",
     "iopub.status.busy": "2023-08-15T13:56:56.971194Z",
     "iopub.status.idle": "2023-08-15T13:56:57.305750Z",
     "shell.execute_reply": "2023-08-15T13:56:57.304846Z"
    },
    "papermill": {
     "duration": 0.364808,
     "end_time": "2023-08-15T13:56:57.307984",
     "exception": false,
     "start_time": "2023-08-15T13:56:56.943176",
     "status": "completed"
    },
    "tags": []
   },
   "outputs": [
    {
     "data": {
      "image/png": "[encoded data removed]",
      "text/plain": [
       "<Figure size 640x480 with 1 Axes>"
      ]
     },
     "metadata": {},
     "output_type": "display_data"
    }
   ],
   "source": [
    "# Filtering feature selection using f_regression test:\n",
    "selector_filtering = feature.univariate(statistic=f_regression)"
   ]
  },
  {
   "cell_type": "markdown",
   "id": "ab5525cd",
   "metadata": {
    "papermill": {
     "duration": 0.030335,
     "end_time": "2023-08-15T13:56:57.366303",
     "exception": false,
     "start_time": "2023-08-15T13:56:57.335968",
     "status": "completed"
    },
    "tags": []
   },
   "source": [
    "**Random Forest Importance**"
   ]
  },
  {
   "cell_type": "code",
   "execution_count": 29,
   "id": "ce64a28c",
   "metadata": {
    "execution": {
     "iopub.execute_input": "2023-08-15T13:56:57.424933Z",
     "iopub.status.busy": "2023-08-15T13:56:57.424120Z",
     "iopub.status.idle": "2023-08-15T13:56:59.690973Z",
     "shell.execute_reply": "2023-08-15T13:56:59.689947Z"
    },
    "papermill": {
     "duration": 2.297693,
     "end_time": "2023-08-15T13:56:59.693277",
     "exception": false,
     "start_time": "2023-08-15T13:56:57.395584",
     "status": "completed"
    },
    "tags": []
   },
   "outputs": [
    {
     "data": {
      "image/png": "[encoded data removed]",
      "text/plain": [
       "<Figure size 640x480 with 1 Axes>"
      ]
     },
     "metadata": {},
     "output_type": "display_data"
    }
   ],
   "source": [
    "# Plotting Best features accordingly to the Random Forest Algorithm:\n",
    "feature.randomforestR_imp()"
   ]
  },
  {
   "cell_type": "markdown",
   "id": "794c465a",
   "metadata": {
    "papermill": {
     "duration": 0.027708,
     "end_time": "2023-08-15T13:56:59.749892",
     "exception": false,
     "start_time": "2023-08-15T13:56:59.722184",
     "status": "completed"
    },
    "tags": []
   },
   "source": [
    "**XGBoost Importance**"
   ]
  },
  {
   "cell_type": "code",
   "execution_count": 30,
   "id": "aae8d0a1",
   "metadata": {
    "execution": {
     "iopub.execute_input": "2023-08-15T13:56:59.807431Z",
     "iopub.status.busy": "2023-08-15T13:56:59.807126Z",
     "iopub.status.idle": "2023-08-15T13:57:00.599413Z",
     "shell.execute_reply": "2023-08-15T13:57:00.598445Z"
    },
    "papermill": {
     "duration": 0.823748,
     "end_time": "2023-08-15T13:57:00.601536",
     "exception": false,
     "start_time": "2023-08-15T13:56:59.777788",
     "status": "completed"
    },
    "tags": []
   },
   "outputs": [
    {
     "data": {
      "image/png": "[encoded data removed]",
      "text/plain": [
       "<Figure size 640x480 with 1 Axes>"
      ]
     },
     "metadata": {},
     "output_type": "display_data"
    }
   ],
   "source": [
    "# Plotting the best features accordingly the XGBoost Algorithm:\n",
    "feature.xgbR_imp()"
   ]
  },
  {
   "cell_type": "markdown",
   "id": "46f99b13",
   "metadata": {
    "papermill": {
     "duration": 0.028187,
     "end_time": "2023-08-15T13:57:00.658380",
     "exception": false,
     "start_time": "2023-08-15T13:57:00.630193",
     "status": "completed"
    },
    "tags": []
   },
   "source": [
    "**Recursive Feature Elimination (RFE)**"
   ]
  },
  {
   "cell_type": "code",
   "execution_count": 31,
   "id": "873ec7e7",
   "metadata": {
    "execution": {
     "iopub.execute_input": "2023-08-15T13:57:00.718192Z",
     "iopub.status.busy": "2023-08-15T13:57:00.716563Z",
     "iopub.status.idle": "2023-08-15T13:59:21.179644Z",
     "shell.execute_reply": "2023-08-15T13:59:21.175038Z"
    },
    "papermill": {
     "duration": 140.499771,
     "end_time": "2023-08-15T13:59:21.186363",
     "exception": false,
     "start_time": "2023-08-15T13:57:00.686592",
     "status": "completed"
    },
    "tags": []
   },
   "outputs": [],
   "source": [
    "# Mean test score for all of the Algorithms and for each number of columns:\n",
    "df_results, df_features = feature.refcv()"
   ]
  },
  {
   "cell_type": "code",
   "execution_count": 32,
   "id": "fa4b6560",
   "metadata": {
    "execution": {
     "iopub.execute_input": "2023-08-15T13:59:21.251584Z",
     "iopub.status.busy": "2023-08-15T13:59:21.251273Z",
     "iopub.status.idle": "2023-08-15T13:59:21.262997Z",
     "shell.execute_reply": "2023-08-15T13:59:21.262027Z"
    },
    "papermill": {
     "duration": 0.043924,
     "end_time": "2023-08-15T13:59:21.264964",
     "exception": false,
     "start_time": "2023-08-15T13:59:21.221040",
     "status": "completed"
    },
    "tags": []
   },
   "outputs": [
    {
     "data": {
      "text/html": [
       "<div>\n",
       "<style scoped>\n",
       "    .dataframe tbody tr th:only-of-type {\n",
       "        vertical-align: middle;\n",
       "    }\n",
       "\n",
       "    .dataframe tbody tr th {\n",
       "        vertical-align: top;\n",
       "    }\n",
       "\n",
       "    .dataframe thead th {\n",
       "        text-align: right;\n",
       "    }\n",
       "</style>\n",
       "<table border=\"1\" class=\"dataframe\">\n",
       "  <thead>\n",
       "    <tr style=\"text-align: right;\">\n",
       "      <th></th>\n",
       "      <th>Lasso</th>\n",
       "      <th>Ridge</th>\n",
       "      <th>RandomForestR</th>\n",
       "      <th>ExtraTreeR</th>\n",
       "      <th>XGB</th>\n",
       "    </tr>\n",
       "  </thead>\n",
       "  <tbody>\n",
       "    <tr>\n",
       "      <th>Columns 1</th>\n",
       "      <td>1467.860960</td>\n",
       "      <td>1477.986141</td>\n",
       "      <td>1133.246002</td>\n",
       "      <td>1207.972781</td>\n",
       "      <td>1045.061217</td>\n",
       "    </tr>\n",
       "    <tr>\n",
       "      <th>Columns 2</th>\n",
       "      <td>1301.266660</td>\n",
       "      <td>1312.583376</td>\n",
       "      <td>974.506010</td>\n",
       "      <td>1003.782575</td>\n",
       "      <td>973.252195</td>\n",
       "    </tr>\n",
       "    <tr>\n",
       "      <th>Columns 3</th>\n",
       "      <td>1155.614811</td>\n",
       "      <td>1158.127170</td>\n",
       "      <td>849.627134</td>\n",
       "      <td>934.740169</td>\n",
       "      <td>944.589000</td>\n",
       "    </tr>\n",
       "    <tr>\n",
       "      <th>Columns 4</th>\n",
       "      <td>1124.590002</td>\n",
       "      <td>1124.589720</td>\n",
       "      <td>819.966015</td>\n",
       "      <td>864.464221</td>\n",
       "      <td>848.063361</td>\n",
       "    </tr>\n",
       "    <tr>\n",
       "      <th>Columns 5</th>\n",
       "      <td>905.993187</td>\n",
       "      <td>905.993069</td>\n",
       "      <td>795.131463</td>\n",
       "      <td>785.949747</td>\n",
       "      <td>823.702505</td>\n",
       "    </tr>\n",
       "    <tr>\n",
       "      <th>Columns 6</th>\n",
       "      <td>903.620263</td>\n",
       "      <td>903.620225</td>\n",
       "      <td>772.033482</td>\n",
       "      <td>770.559293</td>\n",
       "      <td>788.551322</td>\n",
       "    </tr>\n",
       "  </tbody>\n",
       "</table>\n",
       "</div>"
      ],
      "text/plain": [
       "                 Lasso        Ridge  RandomForestR   ExtraTreeR          XGB\n",
       "Columns 1  1467.860960  1477.986141    1133.246002  1207.972781  1045.061217\n",
       "Columns 2  1301.266660  1312.583376     974.506010  1003.782575   973.252195\n",
       "Columns 3  1155.614811  1158.127170     849.627134   934.740169   944.589000\n",
       "Columns 4  1124.590002  1124.589720     819.966015   864.464221   848.063361\n",
       "Columns 5   905.993187   905.993069     795.131463   785.949747   823.702505\n",
       "Columns 6   903.620263   903.620225     772.033482   770.559293   788.551322"
      ]
     },
     "execution_count": 32,
     "metadata": {},
     "output_type": "execute_result"
    }
   ],
   "source": [
    "# Recursive Feature Elimination results:\n",
    "df_results"
   ]
  },
  {
   "cell_type": "code",
   "execution_count": 33,
   "id": "130e6b85",
   "metadata": {
    "execution": {
     "iopub.execute_input": "2023-08-15T13:59:21.323739Z",
     "iopub.status.busy": "2023-08-15T13:59:21.322923Z",
     "iopub.status.idle": "2023-08-15T13:59:21.333936Z",
     "shell.execute_reply": "2023-08-15T13:59:21.332807Z"
    },
    "papermill": {
     "duration": 0.04362,
     "end_time": "2023-08-15T13:59:21.336676",
     "exception": false,
     "start_time": "2023-08-15T13:59:21.293056",
     "status": "completed"
    },
    "tags": []
   },
   "outputs": [
    {
     "data": {
      "text/html": [
       "<div>\n",
       "<style scoped>\n",
       "    .dataframe tbody tr th:only-of-type {\n",
       "        vertical-align: middle;\n",
       "    }\n",
       "\n",
       "    .dataframe tbody tr th {\n",
       "        vertical-align: top;\n",
       "    }\n",
       "\n",
       "    .dataframe thead th {\n",
       "        text-align: right;\n",
       "    }\n",
       "</style>\n",
       "<table border=\"1\" class=\"dataframe\">\n",
       "  <thead>\n",
       "    <tr style=\"text-align: right;\">\n",
       "      <th></th>\n",
       "      <th>WindSpeed</th>\n",
       "      <th>Sunshine</th>\n",
       "      <th>AirPressure</th>\n",
       "      <th>Radiation</th>\n",
       "      <th>AirTemperature</th>\n",
       "      <th>RelativeAirHumidity</th>\n",
       "    </tr>\n",
       "  </thead>\n",
       "  <tbody>\n",
       "    <tr>\n",
       "      <th>0</th>\n",
       "      <td>True</td>\n",
       "      <td>True</td>\n",
       "      <td>True</td>\n",
       "      <td>True</td>\n",
       "      <td>True</td>\n",
       "      <td>True</td>\n",
       "    </tr>\n",
       "  </tbody>\n",
       "</table>\n",
       "</div>"
      ],
      "text/plain": [
       "   WindSpeed  Sunshine  AirPressure  Radiation  AirTemperature  \\\n",
       "0       True      True         True       True            True   \n",
       "\n",
       "   RelativeAirHumidity  \n",
       "0                 True  "
      ]
     },
     "execution_count": 33,
     "metadata": {},
     "output_type": "execute_result"
    }
   ],
   "source": [
    "# Features selected using the best Algorithm (ExtraTreeRegression):\n",
    "\n",
    "df_features"
   ]
  },
  {
   "cell_type": "markdown",
   "id": "3a8b2319",
   "metadata": {
    "papermill": {
     "duration": 0.030924,
     "end_time": "2023-08-15T13:59:21.399190",
     "exception": false,
     "start_time": "2023-08-15T13:59:21.368266",
     "status": "completed"
    },
    "tags": []
   },
   "source": [
    "**Transformations**"
   ]
  },
  {
   "cell_type": "markdown",
   "id": "7c6e0b36",
   "metadata": {
    "papermill": {
     "duration": 0.029792,
     "end_time": "2023-08-15T13:59:21.460156",
     "exception": false,
     "start_time": "2023-08-15T13:59:21.430364",
     "status": "completed"
    },
    "tags": []
   },
   "source": [
    "**MinMax Scaler**\n",
    "\n",
    "**Definition:\n",
    "MinMax Scaler is also called as Normalization, which is a technique that rescale all the values, usually,\n",
    "within a range of 0 and 1.**\n"
   ]
  },
  {
   "cell_type": "code",
   "execution_count": 34,
   "id": "a31e4c4e",
   "metadata": {
    "execution": {
     "iopub.execute_input": "2023-08-15T13:59:21.518478Z",
     "iopub.status.busy": "2023-08-15T13:59:21.518186Z",
     "iopub.status.idle": "2023-08-15T13:59:21.528695Z",
     "shell.execute_reply": "2023-08-15T13:59:21.527845Z"
    },
    "papermill": {
     "duration": 0.042164,
     "end_time": "2023-08-15T13:59:21.530813",
     "exception": false,
     "start_time": "2023-08-15T13:59:21.488649",
     "status": "completed"
    },
    "tags": []
   },
   "outputs": [],
   "source": [
    "# MinMax Scaler Transformation:\n",
    "min_max = MinMaxScaler()\n",
    "X_train_min_max = min_max.fit_transform(X_train)\n",
    "X_test_min_max = min_max.transform(X_test)"
   ]
  },
  {
   "cell_type": "code",
   "execution_count": 35,
   "id": "6e014792",
   "metadata": {
    "execution": {
     "iopub.execute_input": "2023-08-15T13:59:21.646776Z",
     "iopub.status.busy": "2023-08-15T13:59:21.646491Z",
     "iopub.status.idle": "2023-08-15T13:59:21.656773Z",
     "shell.execute_reply": "2023-08-15T13:59:21.655916Z"
    },
    "papermill": {
     "duration": 0.043292,
     "end_time": "2023-08-15T13:59:21.658911",
     "exception": false,
     "start_time": "2023-08-15T13:59:21.615619",
     "status": "completed"
    },
    "tags": []
   },
   "outputs": [],
   "source": [
    "# Standard Scaler Transformation:\n",
    "std = StandardScaler()\n",
    "X_train_std = std.fit_transform(X_train)\n",
    "X_test_std = std.transform(X_test)"
   ]
  },
  {
   "cell_type": "markdown",
   "id": "bf69014b",
   "metadata": {
    "papermill": {
     "duration": 0.030104,
     "end_time": "2023-08-15T13:59:21.717321",
     "exception": false,
     "start_time": "2023-08-15T13:59:21.687217",
     "status": "completed"
    },
    "tags": []
   },
   "source": [
    "**Robust Scaler**"
   ]
  },
  {
   "cell_type": "code",
   "execution_count": 36,
   "id": "ad8d487d",
   "metadata": {
    "execution": {
     "iopub.execute_input": "2023-08-15T13:59:21.776450Z",
     "iopub.status.busy": "2023-08-15T13:59:21.776152Z",
     "iopub.status.idle": "2023-08-15T13:59:21.791637Z",
     "shell.execute_reply": "2023-08-15T13:59:21.790769Z"
    },
    "papermill": {
     "duration": 0.047547,
     "end_time": "2023-08-15T13:59:21.793593",
     "exception": false,
     "start_time": "2023-08-15T13:59:21.746046",
     "status": "completed"
    },
    "tags": []
   },
   "outputs": [],
   "source": [
    "# Robust Scaler Transformation:\n",
    "rob = RobustScaler()\n",
    "X_train_rb = rob.fit_transform(X_train)\n",
    "X_test_rb = rob.fit_transform(X_test)"
   ]
  },
  {
   "cell_type": "markdown",
   "id": "e39691bb",
   "metadata": {
    "papermill": {
     "duration": 0.02854,
     "end_time": "2023-08-15T13:59:21.850669",
     "exception": false,
     "start_time": "2023-08-15T13:59:21.822129",
     "status": "completed"
    },
    "tags": []
   },
   "source": [
    "**Selecting the best Algorithm and Transformation**"
   ]
  },
  {
   "cell_type": "code",
   "execution_count": 37,
   "id": "ea7d3a37",
   "metadata": {
    "execution": {
     "iopub.execute_input": "2023-08-15T13:59:21.909880Z",
     "iopub.status.busy": "2023-08-15T13:59:21.909597Z",
     "iopub.status.idle": "2023-08-15T13:59:21.917611Z",
     "shell.execute_reply": "2023-08-15T13:59:21.916676Z"
    },
    "papermill": {
     "duration": 0.040362,
     "end_time": "2023-08-15T13:59:21.919511",
     "exception": false,
     "start_time": "2023-08-15T13:59:21.879149",
     "status": "completed"
    },
    "tags": []
   },
   "outputs": [],
   "source": [
    "# Function used to evaluate the best algorithms:\n",
    "def melhor_modelo(X_train, y_train):\n",
    "    \n",
    "    seed = 42\n",
    "    cv = 5\n",
    "    score = ['neg_root_mean_squared_error', 'r2']\n",
    "    result_rmse = {}\n",
    "    result_r2 = {}\n",
    "    \n",
    "    dicionario = {\n",
    "                \"Lasso\":Lasso(random_state=seed),\n",
    "                \"Ridge\":Ridge(random_state=seed),\n",
    "                \"SVR\":SVR(),\n",
    "                \"RandomForestR\":RandomForestRegressor(random_state=seed),\n",
    "                \"ExtraTreeR\":ExtraTreesRegressor(random_state=seed),\n",
    "                \"XGB\":XGBRegressor(random_state=seed),\n",
    "                \"MLP\":MLPRegressor(random_state=seed, max_iter=2000)\n",
    "                }\n",
    "    \n",
    "    for name, model in dicionario.items():\n",
    "        \n",
    "        k_fold = KFold(n_splits=cv, random_state=seed, shuffle=True)\n",
    "        result = cross_validate(model, X_train, y_train, cv=k_fold, scoring=score)\n",
    "        result_rmse[name] = -result['test_neg_root_mean_squared_error']\n",
    "        result_r2[name] = result['test_r2']\n",
    "        result_pd_rmse = pd.DataFrame(data=result_rmse)\n",
    "        result_pd_r2 = pd.DataFrame(data=result_r2)\n",
    "        \n",
    "    return result_pd_rmse, result_pd_r2"
   ]
  },
  {
   "cell_type": "markdown",
   "id": "f87930a9",
   "metadata": {
    "papermill": {
     "duration": 0.028773,
     "end_time": "2023-08-15T13:59:21.976675",
     "exception": false,
     "start_time": "2023-08-15T13:59:21.947902",
     "status": "completed"
    },
    "tags": []
   },
   "source": [
    "**Algorithms using MinMax Scaler**"
   ]
  },
  {
   "cell_type": "code",
   "execution_count": 38,
   "id": "6400a86b",
   "metadata": {
    "execution": {
     "iopub.execute_input": "2023-08-15T13:59:22.037141Z",
     "iopub.status.busy": "2023-08-15T13:59:22.036472Z",
     "iopub.status.idle": "2023-08-15T14:03:15.675015Z",
     "shell.execute_reply": "2023-08-15T14:03:15.673634Z"
    },
    "papermill": {
     "duration": 233.673891,
     "end_time": "2023-08-15T14:03:15.678967",
     "exception": false,
     "start_time": "2023-08-15T13:59:22.005076",
     "status": "completed"
    },
    "tags": []
   },
   "outputs": [],
   "source": [
    "# Best model:\n",
    "resultado_rms, resultado_r2 = melhor_modelo(X_train_min_max, y_train)"
   ]
  },
  {
   "cell_type": "code",
   "execution_count": 39,
   "id": "e92f5f8f",
   "metadata": {
    "execution": {
     "iopub.execute_input": "2023-08-15T14:03:15.804182Z",
     "iopub.status.busy": "2023-08-15T14:03:15.803843Z",
     "iopub.status.idle": "2023-08-15T14:03:15.835939Z",
     "shell.execute_reply": "2023-08-15T14:03:15.834868Z"
    },
    "papermill": {
     "duration": 0.096427,
     "end_time": "2023-08-15T14:03:15.838327",
     "exception": false,
     "start_time": "2023-08-15T14:03:15.741900",
     "status": "completed"
    },
    "tags": []
   },
   "outputs": [
    {
     "data": {
      "text/html": [
       "<div>\n",
       "<style scoped>\n",
       "    .dataframe tbody tr th:only-of-type {\n",
       "        vertical-align: middle;\n",
       "    }\n",
       "\n",
       "    .dataframe tbody tr th {\n",
       "        vertical-align: top;\n",
       "    }\n",
       "\n",
       "    .dataframe thead th {\n",
       "        text-align: right;\n",
       "    }\n",
       "</style>\n",
       "<table border=\"1\" class=\"dataframe\">\n",
       "  <thead>\n",
       "    <tr style=\"text-align: right;\">\n",
       "      <th></th>\n",
       "      <th>Lasso</th>\n",
       "      <th>Ridge</th>\n",
       "      <th>SVR</th>\n",
       "      <th>RandomForestR</th>\n",
       "      <th>ExtraTreeR</th>\n",
       "      <th>XGB</th>\n",
       "      <th>MLP</th>\n",
       "    </tr>\n",
       "  </thead>\n",
       "  <tbody>\n",
       "    <tr>\n",
       "      <th>count</th>\n",
       "      <td>5.000000</td>\n",
       "      <td>5.000000</td>\n",
       "      <td>5.000000</td>\n",
       "      <td>5.000000</td>\n",
       "      <td>5.000000</td>\n",
       "      <td>5.000000</td>\n",
       "      <td>5.000000</td>\n",
       "    </tr>\n",
       "    <tr>\n",
       "      <th>mean</th>\n",
       "      <td>903.485007</td>\n",
       "      <td>903.400786</td>\n",
       "      <td>1491.625424</td>\n",
       "      <td>777.359187</td>\n",
       "      <td>775.023285</td>\n",
       "      <td>796.631552</td>\n",
       "      <td>903.149462</td>\n",
       "    </tr>\n",
       "    <tr>\n",
       "      <th>std</th>\n",
       "      <td>15.562091</td>\n",
       "      <td>15.628135</td>\n",
       "      <td>76.724616</td>\n",
       "      <td>44.754904</td>\n",
       "      <td>37.517289</td>\n",
       "      <td>56.469978</td>\n",
       "      <td>15.249867</td>\n",
       "    </tr>\n",
       "    <tr>\n",
       "      <th>min</th>\n",
       "      <td>883.515021</td>\n",
       "      <td>883.085192</td>\n",
       "      <td>1368.718235</td>\n",
       "      <td>709.711976</td>\n",
       "      <td>709.776868</td>\n",
       "      <td>710.759720</td>\n",
       "      <td>884.950591</td>\n",
       "    </tr>\n",
       "    <tr>\n",
       "      <th>25%</th>\n",
       "      <td>897.526534</td>\n",
       "      <td>897.819708</td>\n",
       "      <td>1474.371484</td>\n",
       "      <td>767.563919</td>\n",
       "      <td>776.598713</td>\n",
       "      <td>767.368293</td>\n",
       "      <td>895.889170</td>\n",
       "    </tr>\n",
       "    <tr>\n",
       "      <th>50%</th>\n",
       "      <td>898.300154</td>\n",
       "      <td>898.192638</td>\n",
       "      <td>1515.347110</td>\n",
       "      <td>781.613578</td>\n",
       "      <td>793.488589</td>\n",
       "      <td>827.759964</td>\n",
       "      <td>897.119584</td>\n",
       "    </tr>\n",
       "    <tr>\n",
       "      <th>75%</th>\n",
       "      <td>915.613173</td>\n",
       "      <td>915.621307</td>\n",
       "      <td>1529.832640</td>\n",
       "      <td>796.014928</td>\n",
       "      <td>795.642869</td>\n",
       "      <td>834.921067</td>\n",
       "      <td>916.230928</td>\n",
       "    </tr>\n",
       "    <tr>\n",
       "      <th>max</th>\n",
       "      <td>922.470155</td>\n",
       "      <td>922.285084</td>\n",
       "      <td>1569.857651</td>\n",
       "      <td>831.891534</td>\n",
       "      <td>799.609385</td>\n",
       "      <td>842.348716</td>\n",
       "      <td>921.557038</td>\n",
       "    </tr>\n",
       "  </tbody>\n",
       "</table>\n",
       "</div>"
      ],
      "text/plain": [
       "            Lasso       Ridge          SVR  RandomForestR  ExtraTreeR  \\\n",
       "count    5.000000    5.000000     5.000000       5.000000    5.000000   \n",
       "mean   903.485007  903.400786  1491.625424     777.359187  775.023285   \n",
       "std     15.562091   15.628135    76.724616      44.754904   37.517289   \n",
       "min    883.515021  883.085192  1368.718235     709.711976  709.776868   \n",
       "25%    897.526534  897.819708  1474.371484     767.563919  776.598713   \n",
       "50%    898.300154  898.192638  1515.347110     781.613578  793.488589   \n",
       "75%    915.613173  915.621307  1529.832640     796.014928  795.642869   \n",
       "max    922.470155  922.285084  1569.857651     831.891534  799.609385   \n",
       "\n",
       "              XGB         MLP  \n",
       "count    5.000000    5.000000  \n",
       "mean   796.631552  903.149462  \n",
       "std     56.469978   15.249867  \n",
       "min    710.759720  884.950591  \n",
       "25%    767.368293  895.889170  \n",
       "50%    827.759964  897.119584  \n",
       "75%    834.921067  916.230928  \n",
       "max    842.348716  921.557038  "
      ]
     },
     "execution_count": 39,
     "metadata": {},
     "output_type": "execute_result"
    }
   ],
   "source": [
    "# Root mean squared error results:\n",
    "resultado_rms.describe()"
   ]
  },
  {
   "cell_type": "code",
   "execution_count": 40,
   "id": "ccd8a93a",
   "metadata": {
    "execution": {
     "iopub.execute_input": "2023-08-15T14:03:15.898125Z",
     "iopub.status.busy": "2023-08-15T14:03:15.897844Z",
     "iopub.status.idle": "2023-08-15T14:03:15.926964Z",
     "shell.execute_reply": "2023-08-15T14:03:15.925848Z"
    },
    "papermill": {
     "duration": 0.061382,
     "end_time": "2023-08-15T14:03:15.929513",
     "exception": false,
     "start_time": "2023-08-15T14:03:15.868131",
     "status": "completed"
    },
    "tags": []
   },
   "outputs": [
    {
     "data": {
      "text/html": [
       "<div>\n",
       "<style scoped>\n",
       "    .dataframe tbody tr th:only-of-type {\n",
       "        vertical-align: middle;\n",
       "    }\n",
       "\n",
       "    .dataframe tbody tr th {\n",
       "        vertical-align: top;\n",
       "    }\n",
       "\n",
       "    .dataframe thead th {\n",
       "        text-align: right;\n",
       "    }\n",
       "</style>\n",
       "<table border=\"1\" class=\"dataframe\">\n",
       "  <thead>\n",
       "    <tr style=\"text-align: right;\">\n",
       "      <th></th>\n",
       "      <th>Lasso</th>\n",
       "      <th>Ridge</th>\n",
       "      <th>SVR</th>\n",
       "      <th>RandomForestR</th>\n",
       "      <th>ExtraTreeR</th>\n",
       "      <th>XGB</th>\n",
       "      <th>MLP</th>\n",
       "    </tr>\n",
       "  </thead>\n",
       "  <tbody>\n",
       "    <tr>\n",
       "      <th>count</th>\n",
       "      <td>5.000000</td>\n",
       "      <td>5.000000</td>\n",
       "      <td>5.000000</td>\n",
       "      <td>5.000000</td>\n",
       "      <td>5.000000</td>\n",
       "      <td>5.000000</td>\n",
       "      <td>5.000000</td>\n",
       "    </tr>\n",
       "    <tr>\n",
       "      <th>mean</th>\n",
       "      <td>0.638294</td>\n",
       "      <td>0.638374</td>\n",
       "      <td>0.017998</td>\n",
       "      <td>0.732798</td>\n",
       "      <td>0.734620</td>\n",
       "      <td>0.719589</td>\n",
       "      <td>0.638508</td>\n",
       "    </tr>\n",
       "    <tr>\n",
       "      <th>std</th>\n",
       "      <td>0.026434</td>\n",
       "      <td>0.026218</td>\n",
       "      <td>0.015911</td>\n",
       "      <td>0.021213</td>\n",
       "      <td>0.012827</td>\n",
       "      <td>0.025073</td>\n",
       "      <td>0.027293</td>\n",
       "    </tr>\n",
       "    <tr>\n",
       "      <th>min</th>\n",
       "      <td>0.599661</td>\n",
       "      <td>0.600050</td>\n",
       "      <td>0.001504</td>\n",
       "      <td>0.704749</td>\n",
       "      <td>0.713481</td>\n",
       "      <td>0.687616</td>\n",
       "      <td>0.598359</td>\n",
       "    </tr>\n",
       "    <tr>\n",
       "      <th>25%</th>\n",
       "      <td>0.636953</td>\n",
       "      <td>0.637099</td>\n",
       "      <td>0.003063</td>\n",
       "      <td>0.716051</td>\n",
       "      <td>0.731379</td>\n",
       "      <td>0.707674</td>\n",
       "      <td>0.637671</td>\n",
       "    </tr>\n",
       "    <tr>\n",
       "      <th>50%</th>\n",
       "      <td>0.638390</td>\n",
       "      <td>0.638476</td>\n",
       "      <td>0.020332</td>\n",
       "      <td>0.741676</td>\n",
       "      <td>0.741629</td>\n",
       "      <td>0.712968</td>\n",
       "      <td>0.639340</td>\n",
       "    </tr>\n",
       "    <tr>\n",
       "      <th>75%</th>\n",
       "      <td>0.642333</td>\n",
       "      <td>0.642327</td>\n",
       "      <td>0.025882</td>\n",
       "      <td>0.748647</td>\n",
       "      <td>0.742695</td>\n",
       "      <td>0.740913</td>\n",
       "      <td>0.641850</td>\n",
       "    </tr>\n",
       "    <tr>\n",
       "      <th>max</th>\n",
       "      <td>0.674132</td>\n",
       "      <td>0.673919</td>\n",
       "      <td>0.039210</td>\n",
       "      <td>0.752867</td>\n",
       "      <td>0.743915</td>\n",
       "      <td>0.748775</td>\n",
       "      <td>0.675320</td>\n",
       "    </tr>\n",
       "  </tbody>\n",
       "</table>\n",
       "</div>"
      ],
      "text/plain": [
       "          Lasso     Ridge       SVR  RandomForestR  ExtraTreeR       XGB  \\\n",
       "count  5.000000  5.000000  5.000000       5.000000    5.000000  5.000000   \n",
       "mean   0.638294  0.638374  0.017998       0.732798    0.734620  0.719589   \n",
       "std    0.026434  0.026218  0.015911       0.021213    0.012827  0.025073   \n",
       "min    0.599661  0.600050  0.001504       0.704749    0.713481  0.687616   \n",
       "25%    0.636953  0.637099  0.003063       0.716051    0.731379  0.707674   \n",
       "50%    0.638390  0.638476  0.020332       0.741676    0.741629  0.712968   \n",
       "75%    0.642333  0.642327  0.025882       0.748647    0.742695  0.740913   \n",
       "max    0.674132  0.673919  0.039210       0.752867    0.743915  0.748775   \n",
       "\n",
       "            MLP  \n",
       "count  5.000000  \n",
       "mean   0.638508  \n",
       "std    0.027293  \n",
       "min    0.598359  \n",
       "25%    0.637671  \n",
       "50%    0.639340  \n",
       "75%    0.641850  \n",
       "max    0.675320  "
      ]
     },
     "execution_count": 40,
     "metadata": {},
     "output_type": "execute_result"
    }
   ],
   "source": [
    "# R2 results:\n",
    "resultado_r2.describe()"
   ]
  },
  {
   "cell_type": "code",
   "execution_count": 41,
   "id": "7cb7a8a6",
   "metadata": {
    "execution": {
     "iopub.execute_input": "2023-08-15T14:03:15.993696Z",
     "iopub.status.busy": "2023-08-15T14:03:15.993417Z",
     "iopub.status.idle": "2023-08-15T14:03:16.352927Z",
     "shell.execute_reply": "2023-08-15T14:03:16.352026Z"
    },
    "papermill": {
     "duration": 0.391996,
     "end_time": "2023-08-15T14:03:16.355046",
     "exception": false,
     "start_time": "2023-08-15T14:03:15.963050",
     "status": "completed"
    },
    "tags": []
   },
   "outputs": [
    {
     "data": {
      "image/png": "[encoded data removed]",
      "text/plain": [
       "<Figure size 1500x800 with 1 Axes>"
      ]
     },
     "metadata": {},
     "output_type": "display_data"
    }
   ],
   "source": [
    "# PLotting model's performance:\n",
    "plt.figure(figsize=(15, 8))\n",
    "plt.title(\"Models's Performance - MinMax Scaler\")\n",
    "sns.boxplot(resultado_rms);"
   ]
  },
  {
   "cell_type": "markdown",
   "id": "a3380a72",
   "metadata": {
    "papermill": {
     "duration": 0.029971,
     "end_time": "2023-08-15T14:03:16.415033",
     "exception": false,
     "start_time": "2023-08-15T14:03:16.385062",
     "status": "completed"
    },
    "tags": []
   },
   "source": [
    "**Algorithms using Standard Scaler**"
   ]
  },
  {
   "cell_type": "code",
   "execution_count": 42,
   "id": "4e05177b",
   "metadata": {
    "execution": {
     "iopub.execute_input": "2023-08-15T14:03:16.476808Z",
     "iopub.status.busy": "2023-08-15T14:03:16.475257Z",
     "iopub.status.idle": "2023-08-15T14:07:04.462775Z",
     "shell.execute_reply": "2023-08-15T14:07:04.461350Z"
    },
    "papermill": {
     "duration": 228.022582,
     "end_time": "2023-08-15T14:07:04.467081",
     "exception": false,
     "start_time": "2023-08-15T14:03:16.444499",
     "status": "completed"
    },
    "tags": []
   },
   "outputs": [],
   "source": [
    "# Best model:\n",
    "resultado_rms, resultado_r2 = melhor_modelo(X_train_std, y_train)"
   ]
  },
  {
   "cell_type": "code",
   "execution_count": 43,
   "id": "9124e023",
   "metadata": {
    "execution": {
     "iopub.execute_input": "2023-08-15T14:07:04.594472Z",
     "iopub.status.busy": "2023-08-15T14:07:04.594165Z",
     "iopub.status.idle": "2023-08-15T14:07:04.622584Z",
     "shell.execute_reply": "2023-08-15T14:07:04.621963Z"
    },
    "papermill": {
     "duration": 0.091526,
     "end_time": "2023-08-15T14:07:04.624352",
     "exception": false,
     "start_time": "2023-08-15T14:07:04.532826",
     "status": "completed"
    },
    "tags": []
   },
   "outputs": [
    {
     "data": {
      "text/html": [
       "<div>\n",
       "<style scoped>\n",
       "    .dataframe tbody tr th:only-of-type {\n",
       "        vertical-align: middle;\n",
       "    }\n",
       "\n",
       "    .dataframe tbody tr th {\n",
       "        vertical-align: top;\n",
       "    }\n",
       "\n",
       "    .dataframe thead th {\n",
       "        text-align: right;\n",
       "    }\n",
       "</style>\n",
       "<table border=\"1\" class=\"dataframe\">\n",
       "  <thead>\n",
       "    <tr style=\"text-align: right;\">\n",
       "      <th></th>\n",
       "      <th>Lasso</th>\n",
       "      <th>Ridge</th>\n",
       "      <th>SVR</th>\n",
       "      <th>RandomForestR</th>\n",
       "      <th>ExtraTreeR</th>\n",
       "      <th>XGB</th>\n",
       "      <th>MLP</th>\n",
       "    </tr>\n",
       "  </thead>\n",
       "  <tbody>\n",
       "    <tr>\n",
       "      <th>count</th>\n",
       "      <td>5.000000</td>\n",
       "      <td>5.000000</td>\n",
       "      <td>5.000000</td>\n",
       "      <td>5.000000</td>\n",
       "      <td>5.000000</td>\n",
       "      <td>5.000000</td>\n",
       "      <td>5.000000</td>\n",
       "    </tr>\n",
       "    <tr>\n",
       "      <th>mean</th>\n",
       "      <td>903.358839</td>\n",
       "      <td>903.348724</td>\n",
       "      <td>1530.475777</td>\n",
       "      <td>777.358424</td>\n",
       "      <td>775.054472</td>\n",
       "      <td>796.703441</td>\n",
       "      <td>862.939395</td>\n",
       "    </tr>\n",
       "    <tr>\n",
       "      <th>std</th>\n",
       "      <td>15.613713</td>\n",
       "      <td>15.632424</td>\n",
       "      <td>77.459091</td>\n",
       "      <td>44.998844</td>\n",
       "      <td>37.425748</td>\n",
       "      <td>57.132829</td>\n",
       "      <td>22.959748</td>\n",
       "    </tr>\n",
       "    <tr>\n",
       "      <th>min</th>\n",
       "      <td>883.396953</td>\n",
       "      <td>883.376841</td>\n",
       "      <td>1407.559380</td>\n",
       "      <td>709.420058</td>\n",
       "      <td>709.974316</td>\n",
       "      <td>709.015132</td>\n",
       "      <td>830.902836</td>\n",
       "    </tr>\n",
       "    <tr>\n",
       "      <th>25%</th>\n",
       "      <td>897.503104</td>\n",
       "      <td>897.532799</td>\n",
       "      <td>1509.000499</td>\n",
       "      <td>766.761334</td>\n",
       "      <td>776.598713</td>\n",
       "      <td>768.916041</td>\n",
       "      <td>856.534749</td>\n",
       "    </tr>\n",
       "    <tr>\n",
       "      <th>50%</th>\n",
       "      <td>897.863026</td>\n",
       "      <td>897.762911</td>\n",
       "      <td>1557.105336</td>\n",
       "      <td>782.169400</td>\n",
       "      <td>793.488589</td>\n",
       "      <td>826.964465</td>\n",
       "      <td>863.601966</td>\n",
       "    </tr>\n",
       "    <tr>\n",
       "      <th>75%</th>\n",
       "      <td>915.705262</td>\n",
       "      <td>915.761676</td>\n",
       "      <td>1569.520962</td>\n",
       "      <td>796.460193</td>\n",
       "      <td>795.601359</td>\n",
       "      <td>834.373150</td>\n",
       "      <td>869.038325</td>\n",
       "    </tr>\n",
       "    <tr>\n",
       "      <th>max</th>\n",
       "      <td>922.325850</td>\n",
       "      <td>922.309391</td>\n",
       "      <td>1609.192706</td>\n",
       "      <td>831.981138</td>\n",
       "      <td>799.609385</td>\n",
       "      <td>844.248418</td>\n",
       "      <td>894.619098</td>\n",
       "    </tr>\n",
       "  </tbody>\n",
       "</table>\n",
       "</div>"
      ],
      "text/plain": [
       "            Lasso       Ridge          SVR  RandomForestR  ExtraTreeR  \\\n",
       "count    5.000000    5.000000     5.000000       5.000000    5.000000   \n",
       "mean   903.358839  903.348724  1530.475777     777.358424  775.054472   \n",
       "std     15.613713   15.632424    77.459091      44.998844   37.425748   \n",
       "min    883.396953  883.376841  1407.559380     709.420058  709.974316   \n",
       "25%    897.503104  897.532799  1509.000499     766.761334  776.598713   \n",
       "50%    897.863026  897.762911  1557.105336     782.169400  793.488589   \n",
       "75%    915.705262  915.761676  1569.520962     796.460193  795.601359   \n",
       "max    922.325850  922.309391  1609.192706     831.981138  799.609385   \n",
       "\n",
       "              XGB         MLP  \n",
       "count    5.000000    5.000000  \n",
       "mean   796.703441  862.939395  \n",
       "std     57.132829   22.959748  \n",
       "min    709.015132  830.902836  \n",
       "25%    768.916041  856.534749  \n",
       "50%    826.964465  863.601966  \n",
       "75%    834.373150  869.038325  \n",
       "max    844.248418  894.619098  "
      ]
     },
     "execution_count": 43,
     "metadata": {},
     "output_type": "execute_result"
    }
   ],
   "source": [
    "# Root mean squared error results:\n",
    "resultado_rms.describe()"
   ]
  },
  {
   "cell_type": "code",
   "execution_count": 44,
   "id": "8fa5e54b",
   "metadata": {
    "execution": {
     "iopub.execute_input": "2023-08-15T14:07:04.686103Z",
     "iopub.status.busy": "2023-08-15T14:07:04.685804Z",
     "iopub.status.idle": "2023-08-15T14:07:04.719939Z",
     "shell.execute_reply": "2023-08-15T14:07:04.718990Z"
    },
    "papermill": {
     "duration": 0.067952,
     "end_time": "2023-08-15T14:07:04.722271",
     "exception": false,
     "start_time": "2023-08-15T14:07:04.654319",
     "status": "completed"
    },
    "tags": []
   },
   "outputs": [
    {
     "data": {
      "text/html": [
       "<div>\n",
       "<style scoped>\n",
       "    .dataframe tbody tr th:only-of-type {\n",
       "        vertical-align: middle;\n",
       "    }\n",
       "\n",
       "    .dataframe tbody tr th {\n",
       "        vertical-align: top;\n",
       "    }\n",
       "\n",
       "    .dataframe thead th {\n",
       "        text-align: right;\n",
       "    }\n",
       "</style>\n",
       "<table border=\"1\" class=\"dataframe\">\n",
       "  <thead>\n",
       "    <tr style=\"text-align: right;\">\n",
       "      <th></th>\n",
       "      <th>Lasso</th>\n",
       "      <th>Ridge</th>\n",
       "      <th>SVR</th>\n",
       "      <th>RandomForestR</th>\n",
       "      <th>ExtraTreeR</th>\n",
       "      <th>XGB</th>\n",
       "      <th>MLP</th>\n",
       "    </tr>\n",
       "  </thead>\n",
       "  <tbody>\n",
       "    <tr>\n",
       "      <th>count</th>\n",
       "      <td>5.000000</td>\n",
       "      <td>5.000000</td>\n",
       "      <td>5.000000</td>\n",
       "      <td>5.000000</td>\n",
       "      <td>5.000000</td>\n",
       "      <td>5.000000</td>\n",
       "      <td>5.000000</td>\n",
       "    </tr>\n",
       "    <tr>\n",
       "      <th>mean</th>\n",
       "      <td>0.638397</td>\n",
       "      <td>0.638406</td>\n",
       "      <td>-0.033882</td>\n",
       "      <td>0.732799</td>\n",
       "      <td>0.734596</td>\n",
       "      <td>0.719575</td>\n",
       "      <td>0.670359</td>\n",
       "    </tr>\n",
       "    <tr>\n",
       "      <th>std</th>\n",
       "      <td>0.026397</td>\n",
       "      <td>0.026382</td>\n",
       "      <td>0.015623</td>\n",
       "      <td>0.021337</td>\n",
       "      <td>0.012812</td>\n",
       "      <td>0.024960</td>\n",
       "      <td>0.019834</td>\n",
       "    </tr>\n",
       "    <tr>\n",
       "      <th>min</th>\n",
       "      <td>0.599768</td>\n",
       "      <td>0.599786</td>\n",
       "      <td>-0.050976</td>\n",
       "      <td>0.704685</td>\n",
       "      <td>0.713481</td>\n",
       "      <td>0.688026</td>\n",
       "      <td>0.645921</td>\n",
       "    </tr>\n",
       "    <tr>\n",
       "      <th>25%</th>\n",
       "      <td>0.637066</td>\n",
       "      <td>0.637079</td>\n",
       "      <td>-0.047522</td>\n",
       "      <td>0.715733</td>\n",
       "      <td>0.731379</td>\n",
       "      <td>0.708236</td>\n",
       "      <td>0.658544</td>\n",
       "    </tr>\n",
       "    <tr>\n",
       "      <th>50%</th>\n",
       "      <td>0.638742</td>\n",
       "      <td>0.638822</td>\n",
       "      <td>-0.034406</td>\n",
       "      <td>0.741889</td>\n",
       "      <td>0.741485</td>\n",
       "      <td>0.711672</td>\n",
       "      <td>0.671233</td>\n",
       "    </tr>\n",
       "    <tr>\n",
       "      <th>75%</th>\n",
       "      <td>0.642261</td>\n",
       "      <td>0.642217</td>\n",
       "      <td>-0.020414</td>\n",
       "      <td>0.749172</td>\n",
       "      <td>0.742695</td>\n",
       "      <td>0.742183</td>\n",
       "      <td>0.677795</td>\n",
       "    </tr>\n",
       "    <tr>\n",
       "      <th>max</th>\n",
       "      <td>0.674149</td>\n",
       "      <td>0.674128</td>\n",
       "      <td>-0.016094</td>\n",
       "      <td>0.752515</td>\n",
       "      <td>0.743942</td>\n",
       "      <td>0.747761</td>\n",
       "      <td>0.698301</td>\n",
       "    </tr>\n",
       "  </tbody>\n",
       "</table>\n",
       "</div>"
      ],
      "text/plain": [
       "          Lasso     Ridge       SVR  RandomForestR  ExtraTreeR       XGB  \\\n",
       "count  5.000000  5.000000  5.000000       5.000000    5.000000  5.000000   \n",
       "mean   0.638397  0.638406 -0.033882       0.732799    0.734596  0.719575   \n",
       "std    0.026397  0.026382  0.015623       0.021337    0.012812  0.024960   \n",
       "min    0.599768  0.599786 -0.050976       0.704685    0.713481  0.688026   \n",
       "25%    0.637066  0.637079 -0.047522       0.715733    0.731379  0.708236   \n",
       "50%    0.638742  0.638822 -0.034406       0.741889    0.741485  0.711672   \n",
       "75%    0.642261  0.642217 -0.020414       0.749172    0.742695  0.742183   \n",
       "max    0.674149  0.674128 -0.016094       0.752515    0.743942  0.747761   \n",
       "\n",
       "            MLP  \n",
       "count  5.000000  \n",
       "mean   0.670359  \n",
       "std    0.019834  \n",
       "min    0.645921  \n",
       "25%    0.658544  \n",
       "50%    0.671233  \n",
       "75%    0.677795  \n",
       "max    0.698301  "
      ]
     },
     "execution_count": 44,
     "metadata": {},
     "output_type": "execute_result"
    }
   ],
   "source": [
    "# R2 results:\n",
    "resultado_r2.describe()"
   ]
  },
  {
   "cell_type": "code",
   "execution_count": 45,
   "id": "9a0591c4",
   "metadata": {
    "execution": {
     "iopub.execute_input": "2023-08-15T14:07:04.786494Z",
     "iopub.status.busy": "2023-08-15T14:07:04.786217Z",
     "iopub.status.idle": "2023-08-15T14:07:05.152742Z",
     "shell.execute_reply": "2023-08-15T14:07:05.151828Z"
    },
    "papermill": {
     "duration": 0.400214,
     "end_time": "2023-08-15T14:07:05.154898",
     "exception": false,
     "start_time": "2023-08-15T14:07:04.754684",
     "status": "completed"
    },
    "tags": []
   },
   "outputs": [
    {
     "data": {
      "image/png": "[encoded data removed]",
      "text/plain": [
       "<Figure size 1500x800 with 1 Axes>"
      ]
     },
     "metadata": {},
     "output_type": "display_data"
    }
   ],
   "source": [
    "# PLotting model's performance:\n",
    "plt.figure(figsize=(15, 8))\n",
    "plt.title(\"Models's Performance - Standard Scaler\")\n",
    "sns.boxplot(resultado_rms);"
   ]
  },
  {
   "cell_type": "markdown",
   "id": "1ae55825",
   "metadata": {
    "papermill": {
     "duration": 0.033125,
     "end_time": "2023-08-15T14:07:05.219661",
     "exception": false,
     "start_time": "2023-08-15T14:07:05.186536",
     "status": "completed"
    },
    "tags": []
   },
   "source": [
    "**Algorithms using Robust Scaler**"
   ]
  },
  {
   "cell_type": "code",
   "execution_count": 46,
   "id": "2a069cb8",
   "metadata": {
    "execution": {
     "iopub.execute_input": "2023-08-15T14:07:05.284237Z",
     "iopub.status.busy": "2023-08-15T14:07:05.282690Z",
     "iopub.status.idle": "2023-08-15T14:10:16.155649Z",
     "shell.execute_reply": "2023-08-15T14:10:16.154300Z"
    },
    "papermill": {
     "duration": 190.909,
     "end_time": "2023-08-15T14:10:16.159694",
     "exception": false,
     "start_time": "2023-08-15T14:07:05.250694",
     "status": "completed"
    },
    "tags": []
   },
   "outputs": [],
   "source": [
    "# Best model:\n",
    "resultado_rms, resultado_r2 = melhor_modelo(X_train_rb, y_train)"
   ]
  },
  {
   "cell_type": "code",
   "execution_count": 47,
   "id": "2acdb48a",
   "metadata": {
    "execution": {
     "iopub.execute_input": "2023-08-15T14:10:16.290409Z",
     "iopub.status.busy": "2023-08-15T14:10:16.290051Z",
     "iopub.status.idle": "2023-08-15T14:10:16.320628Z",
     "shell.execute_reply": "2023-08-15T14:10:16.319614Z"
    },
    "papermill": {
     "duration": 0.094563,
     "end_time": "2023-08-15T14:10:16.323164",
     "exception": false,
     "start_time": "2023-08-15T14:10:16.228601",
     "status": "completed"
    },
    "tags": []
   },
   "outputs": [
    {
     "data": {
      "text/html": [
       "<div>\n",
       "<style scoped>\n",
       "    .dataframe tbody tr th:only-of-type {\n",
       "        vertical-align: middle;\n",
       "    }\n",
       "\n",
       "    .dataframe tbody tr th {\n",
       "        vertical-align: top;\n",
       "    }\n",
       "\n",
       "    .dataframe thead th {\n",
       "        text-align: right;\n",
       "    }\n",
       "</style>\n",
       "<table border=\"1\" class=\"dataframe\">\n",
       "  <thead>\n",
       "    <tr style=\"text-align: right;\">\n",
       "      <th></th>\n",
       "      <th>Lasso</th>\n",
       "      <th>Ridge</th>\n",
       "      <th>SVR</th>\n",
       "      <th>RandomForestR</th>\n",
       "      <th>ExtraTreeR</th>\n",
       "      <th>XGB</th>\n",
       "      <th>MLP</th>\n",
       "    </tr>\n",
       "  </thead>\n",
       "  <tbody>\n",
       "    <tr>\n",
       "      <th>count</th>\n",
       "      <td>5.000000</td>\n",
       "      <td>5.000000</td>\n",
       "      <td>5.000000</td>\n",
       "      <td>5.000000</td>\n",
       "      <td>5.000000</td>\n",
       "      <td>5.000000</td>\n",
       "      <td>5.000000</td>\n",
       "    </tr>\n",
       "    <tr>\n",
       "      <th>mean</th>\n",
       "      <td>903.355648</td>\n",
       "      <td>903.348361</td>\n",
       "      <td>1482.596356</td>\n",
       "      <td>777.415145</td>\n",
       "      <td>775.018174</td>\n",
       "      <td>796.668225</td>\n",
       "      <td>876.956954</td>\n",
       "    </tr>\n",
       "    <tr>\n",
       "      <th>std</th>\n",
       "      <td>15.623197</td>\n",
       "      <td>15.632835</td>\n",
       "      <td>78.002979</td>\n",
       "      <td>44.754342</td>\n",
       "      <td>37.423964</td>\n",
       "      <td>57.775051</td>\n",
       "      <td>14.926458</td>\n",
       "    </tr>\n",
       "    <tr>\n",
       "      <th>min</th>\n",
       "      <td>883.412700</td>\n",
       "      <td>883.384740</td>\n",
       "      <td>1357.623438</td>\n",
       "      <td>709.669560</td>\n",
       "      <td>709.974316</td>\n",
       "      <td>706.881966</td>\n",
       "      <td>863.292220</td>\n",
       "    </tr>\n",
       "    <tr>\n",
       "      <th>25%</th>\n",
       "      <td>897.497262</td>\n",
       "      <td>897.526871</td>\n",
       "      <td>1464.431309</td>\n",
       "      <td>767.355707</td>\n",
       "      <td>776.417221</td>\n",
       "      <td>770.807039</td>\n",
       "      <td>867.246465</td>\n",
       "    </tr>\n",
       "    <tr>\n",
       "      <th>50%</th>\n",
       "      <td>897.797461</td>\n",
       "      <td>897.752247</td>\n",
       "      <td>1507.997183</td>\n",
       "      <td>781.161161</td>\n",
       "      <td>793.488589</td>\n",
       "      <td>826.768020</td>\n",
       "      <td>870.690222</td>\n",
       "    </tr>\n",
       "    <tr>\n",
       "      <th>75%</th>\n",
       "      <td>915.742087</td>\n",
       "      <td>915.767967</td>\n",
       "      <td>1521.297606</td>\n",
       "      <td>797.640675</td>\n",
       "      <td>795.601359</td>\n",
       "      <td>834.138524</td>\n",
       "      <td>883.666721</td>\n",
       "    </tr>\n",
       "    <tr>\n",
       "      <th>max</th>\n",
       "      <td>922.328731</td>\n",
       "      <td>922.309982</td>\n",
       "      <td>1561.632242</td>\n",
       "      <td>831.248623</td>\n",
       "      <td>799.609385</td>\n",
       "      <td>844.745576</td>\n",
       "      <td>899.889140</td>\n",
       "    </tr>\n",
       "  </tbody>\n",
       "</table>\n",
       "</div>"
      ],
      "text/plain": [
       "            Lasso       Ridge          SVR  RandomForestR  ExtraTreeR  \\\n",
       "count    5.000000    5.000000     5.000000       5.000000    5.000000   \n",
       "mean   903.355648  903.348361  1482.596356     777.415145  775.018174   \n",
       "std     15.623197   15.632835    78.002979      44.754342   37.423964   \n",
       "min    883.412700  883.384740  1357.623438     709.669560  709.974316   \n",
       "25%    897.497262  897.526871  1464.431309     767.355707  776.417221   \n",
       "50%    897.797461  897.752247  1507.997183     781.161161  793.488589   \n",
       "75%    915.742087  915.767967  1521.297606     797.640675  795.601359   \n",
       "max    922.328731  922.309982  1561.632242     831.248623  799.609385   \n",
       "\n",
       "              XGB         MLP  \n",
       "count    5.000000    5.000000  \n",
       "mean   796.668225  876.956954  \n",
       "std     57.775051   14.926458  \n",
       "min    706.881966  863.292220  \n",
       "25%    770.807039  867.246465  \n",
       "50%    826.768020  870.690222  \n",
       "75%    834.138524  883.666721  \n",
       "max    844.745576  899.889140  "
      ]
     },
     "execution_count": 47,
     "metadata": {},
     "output_type": "execute_result"
    }
   ],
   "source": [
    "# Root mean squared error results:\n",
    "resultado_rms.describe()"
   ]
  },
  {
   "cell_type": "code",
   "execution_count": 48,
   "id": "26b815f8",
   "metadata": {
    "execution": {
     "iopub.execute_input": "2023-08-15T14:10:16.390665Z",
     "iopub.status.busy": "2023-08-15T14:10:16.390119Z",
     "iopub.status.idle": "2023-08-15T14:10:16.418346Z",
     "shell.execute_reply": "2023-08-15T14:10:16.417214Z"
    },
    "papermill": {
     "duration": 0.063299,
     "end_time": "2023-08-15T14:10:16.420694",
     "exception": false,
     "start_time": "2023-08-15T14:10:16.357395",
     "status": "completed"
    },
    "tags": []
   },
   "outputs": [
    {
     "data": {
      "text/html": [
       "<div>\n",
       "<style scoped>\n",
       "    .dataframe tbody tr th:only-of-type {\n",
       "        vertical-align: middle;\n",
       "    }\n",
       "\n",
       "    .dataframe tbody tr th {\n",
       "        vertical-align: top;\n",
       "    }\n",
       "\n",
       "    .dataframe thead th {\n",
       "        text-align: right;\n",
       "    }\n",
       "</style>\n",
       "<table border=\"1\" class=\"dataframe\">\n",
       "  <thead>\n",
       "    <tr style=\"text-align: right;\">\n",
       "      <th></th>\n",
       "      <th>Lasso</th>\n",
       "      <th>Ridge</th>\n",
       "      <th>SVR</th>\n",
       "      <th>RandomForestR</th>\n",
       "      <th>ExtraTreeR</th>\n",
       "      <th>XGB</th>\n",
       "      <th>MLP</th>\n",
       "    </tr>\n",
       "  </thead>\n",
       "  <tbody>\n",
       "    <tr>\n",
       "      <th>count</th>\n",
       "      <td>5.000000</td>\n",
       "      <td>5.000000</td>\n",
       "      <td>5.000000</td>\n",
       "      <td>5.000000</td>\n",
       "      <td>5.000000</td>\n",
       "      <td>5.000000</td>\n",
       "      <td>5.000000</td>\n",
       "    </tr>\n",
       "    <tr>\n",
       "      <th>mean</th>\n",
       "      <td>0.638400</td>\n",
       "      <td>0.638406</td>\n",
       "      <td>0.029921</td>\n",
       "      <td>0.732748</td>\n",
       "      <td>0.734621</td>\n",
       "      <td>0.719632</td>\n",
       "      <td>0.658997</td>\n",
       "    </tr>\n",
       "    <tr>\n",
       "      <th>std</th>\n",
       "      <td>0.026403</td>\n",
       "      <td>0.026386</td>\n",
       "      <td>0.017796</td>\n",
       "      <td>0.021397</td>\n",
       "      <td>0.012831</td>\n",
       "      <td>0.024936</td>\n",
       "      <td>0.028769</td>\n",
       "    </tr>\n",
       "    <tr>\n",
       "      <th>min</th>\n",
       "      <td>0.599753</td>\n",
       "      <td>0.599779</td>\n",
       "      <td>0.012615</td>\n",
       "      <td>0.705205</td>\n",
       "      <td>0.713481</td>\n",
       "      <td>0.688201</td>\n",
       "      <td>0.614268</td>\n",
       "    </tr>\n",
       "    <tr>\n",
       "      <th>25%</th>\n",
       "      <td>0.637064</td>\n",
       "      <td>0.637079</td>\n",
       "      <td>0.013483</td>\n",
       "      <td>0.714890</td>\n",
       "      <td>0.731379</td>\n",
       "      <td>0.708374</td>\n",
       "      <td>0.654509</td>\n",
       "    </tr>\n",
       "    <tr>\n",
       "      <th>50%</th>\n",
       "      <td>0.638794</td>\n",
       "      <td>0.638831</td>\n",
       "      <td>0.029812</td>\n",
       "      <td>0.741707</td>\n",
       "      <td>0.741485</td>\n",
       "      <td>0.711332</td>\n",
       "      <td>0.666025</td>\n",
       "    </tr>\n",
       "    <tr>\n",
       "      <th>75%</th>\n",
       "      <td>0.642232</td>\n",
       "      <td>0.642212</td>\n",
       "      <td>0.038972</td>\n",
       "      <td>0.748783</td>\n",
       "      <td>0.742815</td>\n",
       "      <td>0.743732</td>\n",
       "      <td>0.666856</td>\n",
       "    </tr>\n",
       "    <tr>\n",
       "      <th>max</th>\n",
       "      <td>0.674153</td>\n",
       "      <td>0.674132</td>\n",
       "      <td>0.054723</td>\n",
       "      <td>0.753153</td>\n",
       "      <td>0.743942</td>\n",
       "      <td>0.746519</td>\n",
       "      <td>0.693328</td>\n",
       "    </tr>\n",
       "  </tbody>\n",
       "</table>\n",
       "</div>"
      ],
      "text/plain": [
       "          Lasso     Ridge       SVR  RandomForestR  ExtraTreeR       XGB  \\\n",
       "count  5.000000  5.000000  5.000000       5.000000    5.000000  5.000000   \n",
       "mean   0.638400  0.638406  0.029921       0.732748    0.734621  0.719632   \n",
       "std    0.026403  0.026386  0.017796       0.021397    0.012831  0.024936   \n",
       "min    0.599753  0.599779  0.012615       0.705205    0.713481  0.688201   \n",
       "25%    0.637064  0.637079  0.013483       0.714890    0.731379  0.708374   \n",
       "50%    0.638794  0.638831  0.029812       0.741707    0.741485  0.711332   \n",
       "75%    0.642232  0.642212  0.038972       0.748783    0.742815  0.743732   \n",
       "max    0.674153  0.674132  0.054723       0.753153    0.743942  0.746519   \n",
       "\n",
       "            MLP  \n",
       "count  5.000000  \n",
       "mean   0.658997  \n",
       "std    0.028769  \n",
       "min    0.614268  \n",
       "25%    0.654509  \n",
       "50%    0.666025  \n",
       "75%    0.666856  \n",
       "max    0.693328  "
      ]
     },
     "execution_count": 48,
     "metadata": {},
     "output_type": "execute_result"
    }
   ],
   "source": [
    "# R2 results:\n",
    "resultado_r2.describe()"
   ]
  },
  {
   "cell_type": "code",
   "execution_count": 49,
   "id": "b0d6539c",
   "metadata": {
    "execution": {
     "iopub.execute_input": "2023-08-15T14:10:16.487131Z",
     "iopub.status.busy": "2023-08-15T14:10:16.486792Z",
     "iopub.status.idle": "2023-08-15T14:10:16.842435Z",
     "shell.execute_reply": "2023-08-15T14:10:16.841508Z"
    },
    "papermill": {
     "duration": 0.390464,
     "end_time": "2023-08-15T14:10:16.844704",
     "exception": false,
     "start_time": "2023-08-15T14:10:16.454240",
     "status": "completed"
    },
    "tags": []
   },
   "outputs": [
    {
     "data": {
      "image/png": "[encoded data removed]",
      "text/plain": [
       "<Figure size 1500x800 with 1 Axes>"
      ]
     },
     "metadata": {},
     "output_type": "display_data"
    }
   ],
   "source": [
    "# PLotting model's performance:\n",
    "plt.figure(figsize=(15, 8))\n",
    "plt.title(\"Models's Performance - Robust Scaler\")\n",
    "sns.boxplot(resultado_rms);"
   ]
  },
  {
   "cell_type": "markdown",
   "id": "afe87dba",
   "metadata": {
    "papermill": {
     "duration": 0.031858,
     "end_time": "2023-08-15T14:10:16.908936",
     "exception": false,
     "start_time": "2023-08-15T14:10:16.877078",
     "status": "completed"
    },
    "tags": []
   },
   "source": [
    "**Conclusions**\n",
    "* ExtraTres was the best Algorithm for all of the transformation algorithms.\n",
    "* The Best Trasformation algorithm was Robust Scaler.\n",
    "\n",
    "**RMSE:**\n",
    "* Average: 775.018174\n",
    "* Standard Deviation: 37.423964\n",
    "\n",
    "**R2**\n",
    "* Average: 0.734621\n",
    "* Standard Deviation: 0.012831"
   ]
  },
  {
   "cell_type": "markdown",
   "id": "82b7b18e",
   "metadata": {
    "papermill": {
     "duration": 0.031945,
     "end_time": "2023-08-15T14:10:16.972895",
     "exception": false,
     "start_time": "2023-08-15T14:10:16.940950",
     "status": "completed"
    },
    "tags": []
   },
   "source": [
    "**Fine Tuning**"
   ]
  },
  {
   "cell_type": "code",
   "execution_count": 50,
   "id": "4ccdc922",
   "metadata": {
    "execution": {
     "iopub.execute_input": "2023-08-15T14:10:17.038768Z",
     "iopub.status.busy": "2023-08-15T14:10:17.038424Z",
     "iopub.status.idle": "2023-08-15T14:10:17.044976Z",
     "shell.execute_reply": "2023-08-15T14:10:17.044068Z"
    },
    "papermill": {
     "duration": 0.042166,
     "end_time": "2023-08-15T14:10:17.046906",
     "exception": false,
     "start_time": "2023-08-15T14:10:17.004740",
     "status": "completed"
    },
    "tags": []
   },
   "outputs": [],
   "source": [
    "# Function for fine tuning an arbitrary model:\n",
    "def tuning(X_train, y_train, modelo, params):\n",
    "    cv = 5\n",
    "    score = \"neg_root_mean_squared_error\"\n",
    "    grid = GridSearchCV(modelo, cv=cv, param_grid=params,\n",
    "                        scoring=score,n_jobs=-1,\n",
    "                        return_train_score=True,\n",
    "                       )\n",
    "    \n",
    "    grid.fit(X_train, y_train)\n",
    "    \n",
    "    best_index = grid.best_index_\n",
    "    result = grid.cv_results_\n",
    "    \n",
    "    train_score = -result['mean_train_score'][best_index]\n",
    "    left_out = -result['mean_test_score'][best_index]\n",
    "    \n",
    "    print(f\"Train score: {train_score}\")\n",
    "    print(f\"Left out data score: {left_out}\")\n",
    "    \n",
    "    return grid.best_estimator_"
   ]
  },
  {
   "cell_type": "code",
   "execution_count": 51,
   "id": "59c30a2c",
   "metadata": {
    "execution": {
     "iopub.execute_input": "2023-08-15T14:10:17.113934Z",
     "iopub.status.busy": "2023-08-15T14:10:17.113309Z",
     "iopub.status.idle": "2023-08-15T14:10:17.119943Z",
     "shell.execute_reply": "2023-08-15T14:10:17.119048Z"
    },
    "papermill": {
     "duration": 0.042693,
     "end_time": "2023-08-15T14:10:17.122059",
     "exception": false,
     "start_time": "2023-08-15T14:10:17.079366",
     "status": "completed"
    },
    "tags": []
   },
   "outputs": [],
   "source": [
    "def save_model(model):\n",
    "    try:\n",
    "        joblib.dump(model, \"modelo/extra_tree_model.joblib\")\n",
    "    except:\n",
    "        os.makedirs(\"modelo\")\n",
    "        path = \"modelo/extra_tree_model.joblib\"\n",
    "        joblib.dump(model, path)"
   ]
  },
  {
   "cell_type": "code",
   "execution_count": 52,
   "id": "541f5a4b",
   "metadata": {
    "execution": {
     "iopub.execute_input": "2023-08-15T14:10:17.188296Z",
     "iopub.status.busy": "2023-08-15T14:10:17.187973Z",
     "iopub.status.idle": "2023-08-15T14:10:17.192857Z",
     "shell.execute_reply": "2023-08-15T14:10:17.191969Z"
    },
    "papermill": {
     "duration": 0.040051,
     "end_time": "2023-08-15T14:10:17.195042",
     "exception": false,
     "start_time": "2023-08-15T14:10:17.154991",
     "status": "completed"
    },
    "tags": []
   },
   "outputs": [],
   "source": [
    "# Hypeparameters grid:\n",
    "params = {\"n_estimators\":[100, 110, 120],\n",
    "    \"max_depth\":[4, 5, 6, 7],\n",
    "    \"max_features\":[0.5, 0.6, 0.7],\n",
    "    \"min_samples_split\":[3, 5, 6, 7, 10]}"
   ]
  },
  {
   "cell_type": "code",
   "execution_count": 53,
   "id": "98d3ba88",
   "metadata": {
    "execution": {
     "iopub.execute_input": "2023-08-15T14:10:17.260553Z",
     "iopub.status.busy": "2023-08-15T14:10:17.260246Z",
     "iopub.status.idle": "2023-08-15T14:13:10.300621Z",
     "shell.execute_reply": "2023-08-15T14:13:10.299028Z"
    },
    "papermill": {
     "duration": 173.108794,
     "end_time": "2023-08-15T14:13:10.336141",
     "exception": false,
     "start_time": "2023-08-15T14:10:17.227347",
     "status": "completed"
    },
    "tags": []
   },
   "outputs": [
    {
     "name": "stderr",
     "output_type": "stream",
     "text": [
      "/opt/conda/lib/python3.10/site-packages/scipy/__init__.py:146: UserWarning: A NumPy version >=1.16.5 and <1.23.0 is required for this version of SciPy (detected version 1.23.5\n",
      "  warnings.warn(f\"A NumPy version >={np_minversion} and <{np_maxversion}\"\n",
      "/opt/conda/lib/python3.10/site-packages/scipy/__init__.py:146: UserWarning: A NumPy version >=1.16.5 and <1.23.0 is required for this version of SciPy (detected version 1.23.5\n",
      "  warnings.warn(f\"A NumPy version >={np_minversion} and <{np_maxversion}\"\n"
     ]
    },
    {
     "name": "stdout",
     "output_type": "stream",
     "text": [
      "Train score: 765.3644951871554\n",
      "Left out data score: 835.5946923397969\n"
     ]
    }
   ],
   "source": [
    "# Fine Tuning an ExtraTreeRegressor:\n",
    "extra_tree = ExtraTreesRegressor(random_state=42)\n",
    "best_estimator = tuning(X_train_rb, y_train, extra_tree, params)"
   ]
  },
  {
   "cell_type": "code",
   "execution_count": 54,
   "id": "f98c18cc",
   "metadata": {
    "execution": {
     "iopub.execute_input": "2023-08-15T14:13:10.403493Z",
     "iopub.status.busy": "2023-08-15T14:13:10.403114Z",
     "iopub.status.idle": "2023-08-15T14:13:10.466486Z",
     "shell.execute_reply": "2023-08-15T14:13:10.465424Z"
    },
    "papermill": {
     "duration": 0.1003,
     "end_time": "2023-08-15T14:13:10.469011",
     "exception": false,
     "start_time": "2023-08-15T14:13:10.368711",
     "status": "completed"
    },
    "tags": []
   },
   "outputs": [],
   "source": [
    "# Saving the best model:\n",
    "save_model(best_estimator)"
   ]
  },
  {
   "cell_type": "markdown",
   "id": "a942cd35",
   "metadata": {
    "papermill": {
     "duration": 0.033526,
     "end_time": "2023-08-15T14:13:10.537942",
     "exception": false,
     "start_time": "2023-08-15T14:13:10.504416",
     "status": "completed"
    },
    "tags": []
   },
   "source": [
    "# 5.**Predictions**"
   ]
  },
  {
   "cell_type": "code",
   "execution_count": 55,
   "id": "ee2539dc",
   "metadata": {
    "execution": {
     "iopub.execute_input": "2023-08-15T14:13:10.606200Z",
     "iopub.status.busy": "2023-08-15T14:13:10.605505Z",
     "iopub.status.idle": "2023-08-15T14:13:10.917941Z",
     "shell.execute_reply": "2023-08-15T14:13:10.917039Z"
    },
    "papermill": {
     "duration": 0.349464,
     "end_time": "2023-08-15T14:13:10.920138",
     "exception": false,
     "start_time": "2023-08-15T14:13:10.570674",
     "status": "completed"
    },
    "tags": []
   },
   "outputs": [
    {
     "data": {
      "text/html": [
       "<style>#sk-container-id-1 {color: black;background-color: white;}#sk-container-id-1 pre{padding: 0;}#sk-container-id-1 div.sk-toggleable {background-color: white;}#sk-container-id-1 label.sk-toggleable__label {cursor: pointer;display: block;width: 100%;margin-bottom: 0;padding: 0.3em;box-sizing: border-box;text-align: center;}#sk-container-id-1 label.sk-toggleable__label-arrow:before {content: \"▸\";float: left;margin-right: 0.25em;color: #696969;}#sk-container-id-1 label.sk-toggleable__label-arrow:hover:before {color: black;}#sk-container-id-1 div.sk-estimator:hover label.sk-toggleable__label-arrow:before {color: black;}#sk-container-id-1 div.sk-toggleable__content {max-height: 0;max-width: 0;overflow: hidden;text-align: left;background-color: #f0f8ff;}#sk-container-id-1 div.sk-toggleable__content pre {margin: 0.2em;color: black;border-radius: 0.25em;background-color: #f0f8ff;}#sk-container-id-1 input.sk-toggleable__control:checked~div.sk-toggleable__content {max-height: 200px;max-width: 100%;overflow: auto;}#sk-container-id-1 input.sk-toggleable__control:checked~label.sk-toggleable__label-arrow:before {content: \"▾\";}#sk-container-id-1 div.sk-estimator input.sk-toggleable__control:checked~label.sk-toggleable__label {background-color: #d4ebff;}#sk-container-id-1 div.sk-label input.sk-toggleable__control:checked~label.sk-toggleable__label {background-color: #d4ebff;}#sk-container-id-1 input.sk-hidden--visually {border: 0;clip: rect(1px 1px 1px 1px);clip: rect(1px, 1px, 1px, 1px);height: 1px;margin: -1px;overflow: hidden;padding: 0;position: absolute;width: 1px;}#sk-container-id-1 div.sk-estimator {font-family: monospace;background-color: #f0f8ff;border: 1px dotted black;border-radius: 0.25em;box-sizing: border-box;margin-bottom: 0.5em;}#sk-container-id-1 div.sk-estimator:hover {background-color: #d4ebff;}#sk-container-id-1 div.sk-parallel-item::after {content: \"\";width: 100%;border-bottom: 1px solid gray;flex-grow: 1;}#sk-container-id-1 div.sk-label:hover label.sk-toggleable__label {background-color: #d4ebff;}#sk-container-id-1 div.sk-serial::before {content: \"\";position: absolute;border-left: 1px solid gray;box-sizing: border-box;top: 0;bottom: 0;left: 50%;z-index: 0;}#sk-container-id-1 div.sk-serial {display: flex;flex-direction: column;align-items: center;background-color: white;padding-right: 0.2em;padding-left: 0.2em;position: relative;}#sk-container-id-1 div.sk-item {position: relative;z-index: 1;}#sk-container-id-1 div.sk-parallel {display: flex;align-items: stretch;justify-content: center;background-color: white;position: relative;}#sk-container-id-1 div.sk-item::before, #sk-container-id-1 div.sk-parallel-item::before {content: \"\";position: absolute;border-left: 1px solid gray;box-sizing: border-box;top: 0;bottom: 0;left: 50%;z-index: -1;}#sk-container-id-1 div.sk-parallel-item {display: flex;flex-direction: column;z-index: 1;position: relative;background-color: white;}#sk-container-id-1 div.sk-parallel-item:first-child::after {align-self: flex-end;width: 50%;}#sk-container-id-1 div.sk-parallel-item:last-child::after {align-self: flex-start;width: 50%;}#sk-container-id-1 div.sk-parallel-item:only-child::after {width: 0;}#sk-container-id-1 div.sk-dashed-wrapped {border: 1px dashed gray;margin: 0 0.4em 0.5em 0.4em;box-sizing: border-box;padding-bottom: 0.4em;background-color: white;}#sk-container-id-1 div.sk-label label {font-family: monospace;font-weight: bold;display: inline-block;line-height: 1.2em;}#sk-container-id-1 div.sk-label-container {text-align: center;}#sk-container-id-1 div.sk-container {/* jupyter's `normalize.less` sets `[hidden] { display: none; }` but bootstrap.min.css set `[hidden] { display: none !important; }` so we also need the `!important` here to be able to override the default hidden behavior on the sphinx rendered scikit-learn.org. See: https://github.com/scikit-learn/scikit-learn/issues/21755 */display: inline-block !important;position: relative;}#sk-container-id-1 div.sk-text-repr-fallback {display: none;}</style><div id=\"sk-container-id-1\" class=\"sk-top-container\"><div class=\"sk-text-repr-fallback\"><pre>ExtraTreesRegressor(max_depth=7, max_features=0.7, min_samples_split=3,\n",
       "                    n_estimators=110, random_state=42)</pre><b>In a Jupyter environment, please rerun this cell to show the HTML representation or trust the notebook. <br />On GitHub, the HTML representation is unable to render, please try loading this page with nbviewer.org.</b></div><div class=\"sk-container\" hidden><div class=\"sk-item\"><div class=\"sk-estimator sk-toggleable\"><input class=\"sk-toggleable__control sk-hidden--visually\" id=\"sk-estimator-id-1\" type=\"checkbox\" checked><label for=\"sk-estimator-id-1\" class=\"sk-toggleable__label sk-toggleable__label-arrow\">ExtraTreesRegressor</label><div class=\"sk-toggleable__content\"><pre>ExtraTreesRegressor(max_depth=7, max_features=0.7, min_samples_split=3,\n",
       "                    n_estimators=110, random_state=42)</pre></div></div></div></div></div>"
      ],
      "text/plain": [
       "ExtraTreesRegressor(max_depth=7, max_features=0.7, min_samples_split=3,\n",
       "                    n_estimators=110, random_state=42)"
      ]
     },
     "execution_count": 55,
     "metadata": {},
     "output_type": "execute_result"
    }
   ],
   "source": [
    "# Training the best model using the whole training set:\n",
    "best_model = clone(best_estimator)\n",
    "best_model.fit(X_train_rb, y_train)"
   ]
  },
  {
   "cell_type": "code",
   "execution_count": 56,
   "id": "006b121e",
   "metadata": {
    "execution": {
     "iopub.execute_input": "2023-08-15T14:13:10.991932Z",
     "iopub.status.busy": "2023-08-15T14:13:10.991142Z",
     "iopub.status.idle": "2023-08-15T14:13:11.039049Z",
     "shell.execute_reply": "2023-08-15T14:13:11.037987Z"
    },
    "papermill": {
     "duration": 0.086045,
     "end_time": "2023-08-15T14:13:11.041669",
     "exception": false,
     "start_time": "2023-08-15T14:13:10.955624",
     "status": "completed"
    },
    "tags": []
   },
   "outputs": [
    {
     "name": "stdout",
     "output_type": "stream",
     "text": [
      "Train set:\n",
      "RMSE: 777.204892038056\n",
      "R2: 0.5682232687504819\n"
     ]
    }
   ],
   "source": [
    "# Computing Metrics for the training set:\n",
    "y_pred = best_model.predict(X_train_rb)\n",
    "rms_train = np.sqrt(mean_squared_error(y_pred, y_train))\n",
    "r2_train = r2_score(y_pred, y_train)\n",
    "print(\"Train set:\")\n",
    "print(f\"RMSE: {rms_train}\")\n",
    "print(f\"R2: {r2_train}\")"
   ]
  },
  {
   "cell_type": "code",
   "execution_count": 57,
   "id": "a0251ba6",
   "metadata": {
    "execution": {
     "iopub.execute_input": "2023-08-15T14:13:11.151223Z",
     "iopub.status.busy": "2023-08-15T14:13:11.150761Z",
     "iopub.status.idle": "2023-08-15T14:13:11.189608Z",
     "shell.execute_reply": "2023-08-15T14:13:11.188517Z"
    },
    "papermill": {
     "duration": 0.116039,
     "end_time": "2023-08-15T14:13:11.192895",
     "exception": false,
     "start_time": "2023-08-15T14:13:11.076856",
     "status": "completed"
    },
    "tags": []
   },
   "outputs": [
    {
     "name": "stdout",
     "output_type": "stream",
     "text": [
      "Test set:\n",
      "RMSE: 819.7307706495565\n",
      "R2: 0.5347937839096278\n"
     ]
    }
   ],
   "source": [
    "# Computing Metrics for the test set:\n",
    "y_pred = best_model.predict(X_test_rb)\n",
    "rmse_test = np.sqrt(mean_squared_error(y_pred, y_test))\n",
    "r2_test = r2_score(y_pred, y_test)\n",
    "print(\"Test set:\")\n",
    "print(f\"RMSE: {rmse_test}\")\n",
    "print(f\"R2: {r2_test}\")"
   ]
  },
  {
   "cell_type": "markdown",
   "id": "4ef82ea6",
   "metadata": {
    "papermill": {
     "duration": 0.035916,
     "end_time": "2023-08-15T14:13:11.267673",
     "exception": false,
     "start_time": "2023-08-15T14:13:11.231757",
     "status": "completed"
    },
    "tags": []
   },
   "source": [
    "# **Conclusions**\n",
    "\n",
    "* RMSE improved from 835.595 to 819.731.\n",
    "* R2 score is approximately 0.5349.\n",
    "* Model does not seem to suffer from Overfitting."
   ]
  },
  {
   "cell_type": "code",
   "execution_count": null,
   "id": "8c288344",
   "metadata": {
    "papermill": {
     "duration": 0.034456,
     "end_time": "2023-08-15T14:13:11.336608",
     "exception": false,
     "start_time": "2023-08-15T14:13:11.302152",
     "status": "completed"
    },
    "tags": []
   },
   "outputs": [],
   "source": []
  }
 ],
 "metadata": {
  "kernelspec": {
   "display_name": "Python 3 (ipykernel)",
   "language": "python",
   "name": "python3"
  },
  "language_info": {
   "codemirror_mode": {
    "name": "ipython",
    "version": 3
   },
   "file_extension": ".py",
   "mimetype": "text/x-python",
   "name": "python",
   "nbconvert_exporter": "python",
   "pygments_lexer": "ipython3",
   "version": "3.9.7"
  },
  "papermill": {
   "default_parameters": {},
   "duration": 1000.049225,
   "end_time": "2023-08-15T14:13:13.996637",
   "environment_variables": {},
   "exception": null,
   "input_path": "__notebook__.ipynb",
   "output_path": "__notebook__.ipynb",
   "parameters": {},
   "start_time": "2023-08-15T13:56:33.947412",
   "version": "2.4.0"
  }
 },
 "nbformat": 4,
 "nbformat_minor": 5
}
